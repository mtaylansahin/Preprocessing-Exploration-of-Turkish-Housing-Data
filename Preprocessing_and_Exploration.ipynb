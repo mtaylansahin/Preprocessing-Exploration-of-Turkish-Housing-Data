{
  "nbformat": 4,
  "nbformat_minor": 0,
  "metadata": {
    "colab": {
      "name": "Preprocessing_and_Exploration",
      "provenance": []
    },
    "kernelspec": {
      "name": "python3",
      "display_name": "Python 3"
    },
    "language_info": {
      "name": "python"
    }
  },
  "cells": [
    {
      "cell_type": "code",
      "source": [
        "from google.colab import drive\n",
        "drive.mount('/content/drive')"
      ],
      "metadata": {
        "id": "QCoWj-c3wHgE",
        "colab": {
          "base_uri": "https://localhost:8080/"
        },
        "outputId": "2fb57bd0-3fa3-4c20-fe60-e1359d1b61aa"
      },
      "execution_count": 1,
      "outputs": [
        {
          "output_type": "stream",
          "name": "stdout",
          "text": [
            "Mounted at /content/drive\n"
          ]
        }
      ]
    },
    {
      "cell_type": "markdown",
      "source": [
        "## Importing Libraries"
      ],
      "metadata": {
        "id": "EiFJuW-vNq-U"
      }
    },
    {
      "cell_type": "code",
      "execution_count": 25,
      "metadata": {
        "id": "EWDO0PXVHKyj"
      },
      "outputs": [],
      "source": [
        "import pandas as pd\n",
        "import numpy as np\n",
        "import matplotlib.pyplot as plt\n",
        "import seaborn as sns\n",
        "from sklearn.tree import DecisionTreeRegressor\n",
        "import warnings\n",
        "\n",
        "warnings.filterwarnings(\"ignore\")"
      ]
    },
    {
      "cell_type": "markdown",
      "source": [
        "## Reading Data & Initial Exploration"
      ],
      "metadata": {
        "id": "ZgGnYR8INxOj"
      }
    },
    {
      "cell_type": "markdown",
      "source": [
        "The dataset is primarily centered around the housing market of Ankara, Turkey. The variables are explained below.\n",
        "\n",
        "**id:** id of house\n",
        "\n",
        "**fiyat:** sale price of house (TL)\n",
        "\n",
        "**oda_salon_sayisi:** total number of rooms in the house\n",
        "\n",
        "**net_m2:** size of house (in m2)\n",
        "\n",
        "**bina_yasi:** age of the house (in years)\n",
        "\n",
        "**isinma_tipi:** type of heating system for the house\n",
        "\n",
        "**krediye_uygunluk:** situation of suitability for credit\n",
        "\n",
        "**bulundugu_kat:** position of the house (floor number)\n",
        "\n",
        "**banyo_sayisi:** number of bathrooms in the house\n",
        "\n",
        "**ilce:** name of the district where the house locates in\n",
        "\n",
        "**nüfus:** population of district where the house locates in\n",
        "\n",
        "**eğitim:** education level of the district where the house locates in\n",
        "\n",
        "**okuma_yazma_bilmeyen:** percentage of the illiterate population of the district where the house locates in"
      ],
      "metadata": {
        "id": "N31HiJOE6Gw8"
      }
    },
    {
      "cell_type": "code",
      "source": [
        "# Read data\n",
        "df = pd.read_csv(\"/content/drive/MyDrive/ColabDatastore/METUSTAT/data.set.csv\", sep=\";\", encoding = 'unicode_escape', decimal=\",\")\n",
        "\n",
        "# Replace Turkish characters in column names\n",
        "df = df.rename(columns={'eðitim':'egitim', 'okuma_yazma_bilmeyen,,': 'okuma_yazma_bilmeyen', 'nüfus':'nufus'})\n",
        "\n",
        "# Droping id and Sutun1 as these have the same values with our index\n",
        "df.drop([\"Sütun1\", \"id\"], axis=1, inplace=True)\n",
        "\n",
        "# Convert column to float if dtype is object (string)\n",
        "if df.okuma_yazma_bilmeyen.dtype == 'O':\n",
        "  df[\"okuma_yazma_bilmeyen\"] = pd.to_numeric(df[\"okuma_yazma_bilmeyen\"].str[:-1].str.replace(',','.'), downcast='float', errors='coerce')\n",
        "\n",
        "df.head()"
      ],
      "metadata": {
        "colab": {
          "base_uri": "https://localhost:8080/",
          "height": 270
        },
        "id": "_7ZXoGonHjE5",
        "outputId": "3165664a-72c4-4788-dff4-b805eec92a97"
      },
      "execution_count": 27,
      "outputs": [
        {
          "output_type": "execute_result",
          "data": {
            "text/plain": [
              "      fiyat  oda_salon_sayisi  net_m2  bina_yasi        isinma_tipi  \\\n",
              "0  275000.0               4.0   120.0       12.0              Kombi   \n",
              "1  700000.0               3.0    88.0        0.0  Merkezi(PayÖlçer)   \n",
              "2  980000.0               5.0   230.0       30.0              Kombi   \n",
              "3  385000.0               4.0   120.0       22.0              Kombi   \n",
              "4  700000.0               5.0   150.0        0.0              Kombi   \n",
              "\n",
              "  krediye_uygunluk bulundugu_kat  banyo_sayisi      ilce     nufus  egitim  \\\n",
              "0            Uygun         Kot 1           1.0   Çankaya  925828.0  Lisans   \n",
              "1            Uygun        1. Kat           1.0   Çankaya  925828.0  Lisans   \n",
              "2            Uygun        3. Kat           2.0   Çankaya  925828.0  liSans   \n",
              "3            Uygun        2. Kat           1.0  Keçiören  938565.0    Lise   \n",
              "4            Uygun       Ara Kat           2.0   Çankaya  925828.0  Lisans   \n",
              "\n",
              "   okuma_yazma_bilmeyen  \n",
              "0                  0.70  \n",
              "1                  0.70  \n",
              "2                  0.70  \n",
              "3                  1.43  \n",
              "4                  0.70  "
            ],
            "text/html": [
              "\n",
              "  <div id=\"df-11665ff9-c0c4-4cab-b8d7-6390bef2e496\">\n",
              "    <div class=\"colab-df-container\">\n",
              "      <div>\n",
              "<style scoped>\n",
              "    .dataframe tbody tr th:only-of-type {\n",
              "        vertical-align: middle;\n",
              "    }\n",
              "\n",
              "    .dataframe tbody tr th {\n",
              "        vertical-align: top;\n",
              "    }\n",
              "\n",
              "    .dataframe thead th {\n",
              "        text-align: right;\n",
              "    }\n",
              "</style>\n",
              "<table border=\"1\" class=\"dataframe\">\n",
              "  <thead>\n",
              "    <tr style=\"text-align: right;\">\n",
              "      <th></th>\n",
              "      <th>fiyat</th>\n",
              "      <th>oda_salon_sayisi</th>\n",
              "      <th>net_m2</th>\n",
              "      <th>bina_yasi</th>\n",
              "      <th>isinma_tipi</th>\n",
              "      <th>krediye_uygunluk</th>\n",
              "      <th>bulundugu_kat</th>\n",
              "      <th>banyo_sayisi</th>\n",
              "      <th>ilce</th>\n",
              "      <th>nufus</th>\n",
              "      <th>egitim</th>\n",
              "      <th>okuma_yazma_bilmeyen</th>\n",
              "    </tr>\n",
              "  </thead>\n",
              "  <tbody>\n",
              "    <tr>\n",
              "      <th>0</th>\n",
              "      <td>275000.0</td>\n",
              "      <td>4.0</td>\n",
              "      <td>120.0</td>\n",
              "      <td>12.0</td>\n",
              "      <td>Kombi</td>\n",
              "      <td>Uygun</td>\n",
              "      <td>Kot 1</td>\n",
              "      <td>1.0</td>\n",
              "      <td>Çankaya</td>\n",
              "      <td>925828.0</td>\n",
              "      <td>Lisans</td>\n",
              "      <td>0.70</td>\n",
              "    </tr>\n",
              "    <tr>\n",
              "      <th>1</th>\n",
              "      <td>700000.0</td>\n",
              "      <td>3.0</td>\n",
              "      <td>88.0</td>\n",
              "      <td>0.0</td>\n",
              "      <td>Merkezi(PayÖlçer)</td>\n",
              "      <td>Uygun</td>\n",
              "      <td>1. Kat</td>\n",
              "      <td>1.0</td>\n",
              "      <td>Çankaya</td>\n",
              "      <td>925828.0</td>\n",
              "      <td>Lisans</td>\n",
              "      <td>0.70</td>\n",
              "    </tr>\n",
              "    <tr>\n",
              "      <th>2</th>\n",
              "      <td>980000.0</td>\n",
              "      <td>5.0</td>\n",
              "      <td>230.0</td>\n",
              "      <td>30.0</td>\n",
              "      <td>Kombi</td>\n",
              "      <td>Uygun</td>\n",
              "      <td>3. Kat</td>\n",
              "      <td>2.0</td>\n",
              "      <td>Çankaya</td>\n",
              "      <td>925828.0</td>\n",
              "      <td>liSans</td>\n",
              "      <td>0.70</td>\n",
              "    </tr>\n",
              "    <tr>\n",
              "      <th>3</th>\n",
              "      <td>385000.0</td>\n",
              "      <td>4.0</td>\n",
              "      <td>120.0</td>\n",
              "      <td>22.0</td>\n",
              "      <td>Kombi</td>\n",
              "      <td>Uygun</td>\n",
              "      <td>2. Kat</td>\n",
              "      <td>1.0</td>\n",
              "      <td>Keçiören</td>\n",
              "      <td>938565.0</td>\n",
              "      <td>Lise</td>\n",
              "      <td>1.43</td>\n",
              "    </tr>\n",
              "    <tr>\n",
              "      <th>4</th>\n",
              "      <td>700000.0</td>\n",
              "      <td>5.0</td>\n",
              "      <td>150.0</td>\n",
              "      <td>0.0</td>\n",
              "      <td>Kombi</td>\n",
              "      <td>Uygun</td>\n",
              "      <td>Ara Kat</td>\n",
              "      <td>2.0</td>\n",
              "      <td>Çankaya</td>\n",
              "      <td>925828.0</td>\n",
              "      <td>Lisans</td>\n",
              "      <td>0.70</td>\n",
              "    </tr>\n",
              "  </tbody>\n",
              "</table>\n",
              "</div>\n",
              "      <button class=\"colab-df-convert\" onclick=\"convertToInteractive('df-11665ff9-c0c4-4cab-b8d7-6390bef2e496')\"\n",
              "              title=\"Convert this dataframe to an interactive table.\"\n",
              "              style=\"display:none;\">\n",
              "        \n",
              "  <svg xmlns=\"http://www.w3.org/2000/svg\" height=\"24px\"viewBox=\"0 0 24 24\"\n",
              "       width=\"24px\">\n",
              "    <path d=\"M0 0h24v24H0V0z\" fill=\"none\"/>\n",
              "    <path d=\"M18.56 5.44l.94 2.06.94-2.06 2.06-.94-2.06-.94-.94-2.06-.94 2.06-2.06.94zm-11 1L8.5 8.5l.94-2.06 2.06-.94-2.06-.94L8.5 2.5l-.94 2.06-2.06.94zm10 10l.94 2.06.94-2.06 2.06-.94-2.06-.94-.94-2.06-.94 2.06-2.06.94z\"/><path d=\"M17.41 7.96l-1.37-1.37c-.4-.4-.92-.59-1.43-.59-.52 0-1.04.2-1.43.59L10.3 9.45l-7.72 7.72c-.78.78-.78 2.05 0 2.83L4 21.41c.39.39.9.59 1.41.59.51 0 1.02-.2 1.41-.59l7.78-7.78 2.81-2.81c.8-.78.8-2.07 0-2.86zM5.41 20L4 18.59l7.72-7.72 1.47 1.35L5.41 20z\"/>\n",
              "  </svg>\n",
              "      </button>\n",
              "      \n",
              "  <style>\n",
              "    .colab-df-container {\n",
              "      display:flex;\n",
              "      flex-wrap:wrap;\n",
              "      gap: 12px;\n",
              "    }\n",
              "\n",
              "    .colab-df-convert {\n",
              "      background-color: #E8F0FE;\n",
              "      border: none;\n",
              "      border-radius: 50%;\n",
              "      cursor: pointer;\n",
              "      display: none;\n",
              "      fill: #1967D2;\n",
              "      height: 32px;\n",
              "      padding: 0 0 0 0;\n",
              "      width: 32px;\n",
              "    }\n",
              "\n",
              "    .colab-df-convert:hover {\n",
              "      background-color: #E2EBFA;\n",
              "      box-shadow: 0px 1px 2px rgba(60, 64, 67, 0.3), 0px 1px 3px 1px rgba(60, 64, 67, 0.15);\n",
              "      fill: #174EA6;\n",
              "    }\n",
              "\n",
              "    [theme=dark] .colab-df-convert {\n",
              "      background-color: #3B4455;\n",
              "      fill: #D2E3FC;\n",
              "    }\n",
              "\n",
              "    [theme=dark] .colab-df-convert:hover {\n",
              "      background-color: #434B5C;\n",
              "      box-shadow: 0px 1px 3px 1px rgba(0, 0, 0, 0.15);\n",
              "      filter: drop-shadow(0px 1px 2px rgba(0, 0, 0, 0.3));\n",
              "      fill: #FFFFFF;\n",
              "    }\n",
              "  </style>\n",
              "\n",
              "      <script>\n",
              "        const buttonEl =\n",
              "          document.querySelector('#df-11665ff9-c0c4-4cab-b8d7-6390bef2e496 button.colab-df-convert');\n",
              "        buttonEl.style.display =\n",
              "          google.colab.kernel.accessAllowed ? 'block' : 'none';\n",
              "\n",
              "        async function convertToInteractive(key) {\n",
              "          const element = document.querySelector('#df-11665ff9-c0c4-4cab-b8d7-6390bef2e496');\n",
              "          const dataTable =\n",
              "            await google.colab.kernel.invokeFunction('convertToInteractive',\n",
              "                                                     [key], {});\n",
              "          if (!dataTable) return;\n",
              "\n",
              "          const docLinkHtml = 'Like what you see? Visit the ' +\n",
              "            '<a target=\"_blank\" href=https://colab.research.google.com/notebooks/data_table.ipynb>data table notebook</a>'\n",
              "            + ' to learn more about interactive tables.';\n",
              "          element.innerHTML = '';\n",
              "          dataTable['output_type'] = 'display_data';\n",
              "          await google.colab.output.renderOutput(dataTable, element);\n",
              "          const docLink = document.createElement('div');\n",
              "          docLink.innerHTML = docLinkHtml;\n",
              "          element.appendChild(docLink);\n",
              "        }\n",
              "      </script>\n",
              "    </div>\n",
              "  </div>\n",
              "  "
            ]
          },
          "metadata": {},
          "execution_count": 27
        }
      ]
    },
    {
      "cell_type": "code",
      "source": [
        "#Print min, max, mean and median for all numeric values to look for outliers\n",
        "numeric_cols = ['fiyat', 'oda_salon_sayisi', 'net_m2', 'bina_yasi',\n",
        "                'banyo_sayisi', 'nufus', 'okuma_yazma_bilmeyen']\n",
        "\n",
        "for var in numeric_cols:\n",
        "  print(f\"Variable: {var}, Min: {df[var].min()}, Max: {df[var].max()}, Mean: {df[var].mean()}, Median: {df[var].median()}\")"
      ],
      "metadata": {
        "colab": {
          "base_uri": "https://localhost:8080/"
        },
        "id": "iGj_tm8m0yeN",
        "outputId": "3f0bf52f-6c20-4cb7-c9cc-92b62d506571"
      },
      "execution_count": 28,
      "outputs": [
        {
          "output_type": "stream",
          "name": "stdout",
          "text": [
            "Variable: fiyat, Min: 325.0, Max: 8850000.0, Mean: 609542.0536562203, Median: 460000.0\n",
            "Variable: oda_salon_sayisi, Min: 1.0, Max: 153.0, Mean: 4.327794920484216, Median: 4.0\n",
            "Variable: net_m2, Min: -98.0, Max: 600.0, Mean: 130.33990030856873, Median: 120.0\n",
            "Variable: bina_yasi, Min: 0.0, Max: 55.0, Mean: 16.164373814041745, Median: 16.0\n",
            "Variable: banyo_sayisi, Min: 1.0, Max: 21.0, Mean: 1.4689131466540104, Median: 1.0\n",
            "Variable: nufus, Min: 549108.0, Max: 938565.0, Mean: 873334.921689606, Median: 925828.0\n",
            "Variable: okuma_yazma_bilmeyen, Min: 0.0, Max: 1.9, Mean: 1.1226179748635985, Median: 1.43\n"
          ]
        }
      ]
    },
    {
      "cell_type": "code",
      "source": [
        "# Check rows with null values\n",
        "df[df.isnull().any(axis=1)]"
      ],
      "metadata": {
        "colab": {
          "base_uri": "https://localhost:8080/",
          "height": 487
        },
        "id": "g0AecAcyHlnI",
        "outputId": "8e931ef4-2642-4edb-b4e5-483a2c97dbd8"
      },
      "execution_count": 29,
      "outputs": [
        {
          "output_type": "execute_result",
          "data": {
            "text/plain": [
              "         fiyat  oda_salon_sayisi  net_m2  bina_yasi        isinma_tipi  \\\n",
              "15    268000.0               3.0   110.0       25.0              Kombi   \n",
              "69    285000.0               NaN   110.0       28.0              Kombi   \n",
              "123   539000.0               4.0   125.0       22.0                NaN   \n",
              "134   425000.0               3.0   115.0       22.0              Kombi   \n",
              "263   735000.0               5.0   160.0       12.0              Kombi   \n",
              "...        ...               ...     ...        ...                ...   \n",
              "4144  595000.0               4.0   120.0       20.0              Kombi   \n",
              "4150  670000.0               5.0   185.0        2.0  Merkezi(PayÖlçer)   \n",
              "4204       NaN               4.0   115.0        7.0              Kombi   \n",
              "4214  595000.0               4.0   100.0       50.0              Kombi   \n",
              "4218       NaN               4.0    95.0       16.0              Kombi   \n",
              "\n",
              "     krediye_uygunluk bulundugu_kat  banyo_sayisi      ilce     nufus  egitim  \\\n",
              "15              Uygun         Kot 1           1.0   Çankaya       NaN  Lisans   \n",
              "69              Uygun        2. Kat           1.0  Keçiören  938565.0    Lise   \n",
              "123             Uygun        3. Kat           1.0   Çankaya  925828.0  Lisans   \n",
              "134             Uygun        3. Kat           1.0  Keçiören       NaN    Lise   \n",
              "263             Uygun        1. Kat           2.0  Keçiören  938565.0    Lise   \n",
              "...               ...           ...           ...       ...       ...     ...   \n",
              "4144            Uygun        2. Kat           2.0   Çankaya  925828.0     NaN   \n",
              "4150            Uygun           NaN           2.0   Çankaya  925828.0  Lisans   \n",
              "4204            Uygun        4. Kat           1.0    Sincan  549108.0    Lise   \n",
              "4214            Uygun    Teras Katý           NaN   Çankaya  925828.0  Lisans   \n",
              "4218            Uygun    Giriþ Katý           1.0  Keçiören  938565.0    Lise   \n",
              "\n",
              "      okuma_yazma_bilmeyen  \n",
              "15                    0.70  \n",
              "69                    1.43  \n",
              "123                   0.70  \n",
              "134                   1.43  \n",
              "263                    NaN  \n",
              "...                    ...  \n",
              "4144                  0.70  \n",
              "4150                  0.70  \n",
              "4204                  1.44  \n",
              "4214                  0.70  \n",
              "4218                  1.43  \n",
              "\n",
              "[78 rows x 12 columns]"
            ],
            "text/html": [
              "\n",
              "  <div id=\"df-837bcff1-76f2-4732-8630-63ae7988b35a\">\n",
              "    <div class=\"colab-df-container\">\n",
              "      <div>\n",
              "<style scoped>\n",
              "    .dataframe tbody tr th:only-of-type {\n",
              "        vertical-align: middle;\n",
              "    }\n",
              "\n",
              "    .dataframe tbody tr th {\n",
              "        vertical-align: top;\n",
              "    }\n",
              "\n",
              "    .dataframe thead th {\n",
              "        text-align: right;\n",
              "    }\n",
              "</style>\n",
              "<table border=\"1\" class=\"dataframe\">\n",
              "  <thead>\n",
              "    <tr style=\"text-align: right;\">\n",
              "      <th></th>\n",
              "      <th>fiyat</th>\n",
              "      <th>oda_salon_sayisi</th>\n",
              "      <th>net_m2</th>\n",
              "      <th>bina_yasi</th>\n",
              "      <th>isinma_tipi</th>\n",
              "      <th>krediye_uygunluk</th>\n",
              "      <th>bulundugu_kat</th>\n",
              "      <th>banyo_sayisi</th>\n",
              "      <th>ilce</th>\n",
              "      <th>nufus</th>\n",
              "      <th>egitim</th>\n",
              "      <th>okuma_yazma_bilmeyen</th>\n",
              "    </tr>\n",
              "  </thead>\n",
              "  <tbody>\n",
              "    <tr>\n",
              "      <th>15</th>\n",
              "      <td>268000.0</td>\n",
              "      <td>3.0</td>\n",
              "      <td>110.0</td>\n",
              "      <td>25.0</td>\n",
              "      <td>Kombi</td>\n",
              "      <td>Uygun</td>\n",
              "      <td>Kot 1</td>\n",
              "      <td>1.0</td>\n",
              "      <td>Çankaya</td>\n",
              "      <td>NaN</td>\n",
              "      <td>Lisans</td>\n",
              "      <td>0.70</td>\n",
              "    </tr>\n",
              "    <tr>\n",
              "      <th>69</th>\n",
              "      <td>285000.0</td>\n",
              "      <td>NaN</td>\n",
              "      <td>110.0</td>\n",
              "      <td>28.0</td>\n",
              "      <td>Kombi</td>\n",
              "      <td>Uygun</td>\n",
              "      <td>2. Kat</td>\n",
              "      <td>1.0</td>\n",
              "      <td>Keçiören</td>\n",
              "      <td>938565.0</td>\n",
              "      <td>Lise</td>\n",
              "      <td>1.43</td>\n",
              "    </tr>\n",
              "    <tr>\n",
              "      <th>123</th>\n",
              "      <td>539000.0</td>\n",
              "      <td>4.0</td>\n",
              "      <td>125.0</td>\n",
              "      <td>22.0</td>\n",
              "      <td>NaN</td>\n",
              "      <td>Uygun</td>\n",
              "      <td>3. Kat</td>\n",
              "      <td>1.0</td>\n",
              "      <td>Çankaya</td>\n",
              "      <td>925828.0</td>\n",
              "      <td>Lisans</td>\n",
              "      <td>0.70</td>\n",
              "    </tr>\n",
              "    <tr>\n",
              "      <th>134</th>\n",
              "      <td>425000.0</td>\n",
              "      <td>3.0</td>\n",
              "      <td>115.0</td>\n",
              "      <td>22.0</td>\n",
              "      <td>Kombi</td>\n",
              "      <td>Uygun</td>\n",
              "      <td>3. Kat</td>\n",
              "      <td>1.0</td>\n",
              "      <td>Keçiören</td>\n",
              "      <td>NaN</td>\n",
              "      <td>Lise</td>\n",
              "      <td>1.43</td>\n",
              "    </tr>\n",
              "    <tr>\n",
              "      <th>263</th>\n",
              "      <td>735000.0</td>\n",
              "      <td>5.0</td>\n",
              "      <td>160.0</td>\n",
              "      <td>12.0</td>\n",
              "      <td>Kombi</td>\n",
              "      <td>Uygun</td>\n",
              "      <td>1. Kat</td>\n",
              "      <td>2.0</td>\n",
              "      <td>Keçiören</td>\n",
              "      <td>938565.0</td>\n",
              "      <td>Lise</td>\n",
              "      <td>NaN</td>\n",
              "    </tr>\n",
              "    <tr>\n",
              "      <th>...</th>\n",
              "      <td>...</td>\n",
              "      <td>...</td>\n",
              "      <td>...</td>\n",
              "      <td>...</td>\n",
              "      <td>...</td>\n",
              "      <td>...</td>\n",
              "      <td>...</td>\n",
              "      <td>...</td>\n",
              "      <td>...</td>\n",
              "      <td>...</td>\n",
              "      <td>...</td>\n",
              "      <td>...</td>\n",
              "    </tr>\n",
              "    <tr>\n",
              "      <th>4144</th>\n",
              "      <td>595000.0</td>\n",
              "      <td>4.0</td>\n",
              "      <td>120.0</td>\n",
              "      <td>20.0</td>\n",
              "      <td>Kombi</td>\n",
              "      <td>Uygun</td>\n",
              "      <td>2. Kat</td>\n",
              "      <td>2.0</td>\n",
              "      <td>Çankaya</td>\n",
              "      <td>925828.0</td>\n",
              "      <td>NaN</td>\n",
              "      <td>0.70</td>\n",
              "    </tr>\n",
              "    <tr>\n",
              "      <th>4150</th>\n",
              "      <td>670000.0</td>\n",
              "      <td>5.0</td>\n",
              "      <td>185.0</td>\n",
              "      <td>2.0</td>\n",
              "      <td>Merkezi(PayÖlçer)</td>\n",
              "      <td>Uygun</td>\n",
              "      <td>NaN</td>\n",
              "      <td>2.0</td>\n",
              "      <td>Çankaya</td>\n",
              "      <td>925828.0</td>\n",
              "      <td>Lisans</td>\n",
              "      <td>0.70</td>\n",
              "    </tr>\n",
              "    <tr>\n",
              "      <th>4204</th>\n",
              "      <td>NaN</td>\n",
              "      <td>4.0</td>\n",
              "      <td>115.0</td>\n",
              "      <td>7.0</td>\n",
              "      <td>Kombi</td>\n",
              "      <td>Uygun</td>\n",
              "      <td>4. Kat</td>\n",
              "      <td>1.0</td>\n",
              "      <td>Sincan</td>\n",
              "      <td>549108.0</td>\n",
              "      <td>Lise</td>\n",
              "      <td>1.44</td>\n",
              "    </tr>\n",
              "    <tr>\n",
              "      <th>4214</th>\n",
              "      <td>595000.0</td>\n",
              "      <td>4.0</td>\n",
              "      <td>100.0</td>\n",
              "      <td>50.0</td>\n",
              "      <td>Kombi</td>\n",
              "      <td>Uygun</td>\n",
              "      <td>Teras Katý</td>\n",
              "      <td>NaN</td>\n",
              "      <td>Çankaya</td>\n",
              "      <td>925828.0</td>\n",
              "      <td>Lisans</td>\n",
              "      <td>0.70</td>\n",
              "    </tr>\n",
              "    <tr>\n",
              "      <th>4218</th>\n",
              "      <td>NaN</td>\n",
              "      <td>4.0</td>\n",
              "      <td>95.0</td>\n",
              "      <td>16.0</td>\n",
              "      <td>Kombi</td>\n",
              "      <td>Uygun</td>\n",
              "      <td>Giriþ Katý</td>\n",
              "      <td>1.0</td>\n",
              "      <td>Keçiören</td>\n",
              "      <td>938565.0</td>\n",
              "      <td>Lise</td>\n",
              "      <td>1.43</td>\n",
              "    </tr>\n",
              "  </tbody>\n",
              "</table>\n",
              "<p>78 rows × 12 columns</p>\n",
              "</div>\n",
              "      <button class=\"colab-df-convert\" onclick=\"convertToInteractive('df-837bcff1-76f2-4732-8630-63ae7988b35a')\"\n",
              "              title=\"Convert this dataframe to an interactive table.\"\n",
              "              style=\"display:none;\">\n",
              "        \n",
              "  <svg xmlns=\"http://www.w3.org/2000/svg\" height=\"24px\"viewBox=\"0 0 24 24\"\n",
              "       width=\"24px\">\n",
              "    <path d=\"M0 0h24v24H0V0z\" fill=\"none\"/>\n",
              "    <path d=\"M18.56 5.44l.94 2.06.94-2.06 2.06-.94-2.06-.94-.94-2.06-.94 2.06-2.06.94zm-11 1L8.5 8.5l.94-2.06 2.06-.94-2.06-.94L8.5 2.5l-.94 2.06-2.06.94zm10 10l.94 2.06.94-2.06 2.06-.94-2.06-.94-.94-2.06-.94 2.06-2.06.94z\"/><path d=\"M17.41 7.96l-1.37-1.37c-.4-.4-.92-.59-1.43-.59-.52 0-1.04.2-1.43.59L10.3 9.45l-7.72 7.72c-.78.78-.78 2.05 0 2.83L4 21.41c.39.39.9.59 1.41.59.51 0 1.02-.2 1.41-.59l7.78-7.78 2.81-2.81c.8-.78.8-2.07 0-2.86zM5.41 20L4 18.59l7.72-7.72 1.47 1.35L5.41 20z\"/>\n",
              "  </svg>\n",
              "      </button>\n",
              "      \n",
              "  <style>\n",
              "    .colab-df-container {\n",
              "      display:flex;\n",
              "      flex-wrap:wrap;\n",
              "      gap: 12px;\n",
              "    }\n",
              "\n",
              "    .colab-df-convert {\n",
              "      background-color: #E8F0FE;\n",
              "      border: none;\n",
              "      border-radius: 50%;\n",
              "      cursor: pointer;\n",
              "      display: none;\n",
              "      fill: #1967D2;\n",
              "      height: 32px;\n",
              "      padding: 0 0 0 0;\n",
              "      width: 32px;\n",
              "    }\n",
              "\n",
              "    .colab-df-convert:hover {\n",
              "      background-color: #E2EBFA;\n",
              "      box-shadow: 0px 1px 2px rgba(60, 64, 67, 0.3), 0px 1px 3px 1px rgba(60, 64, 67, 0.15);\n",
              "      fill: #174EA6;\n",
              "    }\n",
              "\n",
              "    [theme=dark] .colab-df-convert {\n",
              "      background-color: #3B4455;\n",
              "      fill: #D2E3FC;\n",
              "    }\n",
              "\n",
              "    [theme=dark] .colab-df-convert:hover {\n",
              "      background-color: #434B5C;\n",
              "      box-shadow: 0px 1px 3px 1px rgba(0, 0, 0, 0.15);\n",
              "      filter: drop-shadow(0px 1px 2px rgba(0, 0, 0, 0.3));\n",
              "      fill: #FFFFFF;\n",
              "    }\n",
              "  </style>\n",
              "\n",
              "      <script>\n",
              "        const buttonEl =\n",
              "          document.querySelector('#df-837bcff1-76f2-4732-8630-63ae7988b35a button.colab-df-convert');\n",
              "        buttonEl.style.display =\n",
              "          google.colab.kernel.accessAllowed ? 'block' : 'none';\n",
              "\n",
              "        async function convertToInteractive(key) {\n",
              "          const element = document.querySelector('#df-837bcff1-76f2-4732-8630-63ae7988b35a');\n",
              "          const dataTable =\n",
              "            await google.colab.kernel.invokeFunction('convertToInteractive',\n",
              "                                                     [key], {});\n",
              "          if (!dataTable) return;\n",
              "\n",
              "          const docLinkHtml = 'Like what you see? Visit the ' +\n",
              "            '<a target=\"_blank\" href=https://colab.research.google.com/notebooks/data_table.ipynb>data table notebook</a>'\n",
              "            + ' to learn more about interactive tables.';\n",
              "          element.innerHTML = '';\n",
              "          dataTable['output_type'] = 'display_data';\n",
              "          await google.colab.output.renderOutput(dataTable, element);\n",
              "          const docLink = document.createElement('div');\n",
              "          docLink.innerHTML = docLinkHtml;\n",
              "          element.appendChild(docLink);\n",
              "        }\n",
              "      </script>\n",
              "    </div>\n",
              "  </div>\n",
              "  "
            ]
          },
          "metadata": {},
          "execution_count": 29
        }
      ]
    },
    {
      "cell_type": "code",
      "source": [
        "# m2 should not be less than ~40\n",
        "df[df.net_m2 < 40][\"net_m2\"].plot(kind=\"hist\")\n",
        "plt.show()"
      ],
      "metadata": {
        "colab": {
          "base_uri": "https://localhost:8080/",
          "height": 265
        },
        "id": "77sTDjk96qVF",
        "outputId": "f67b1102-743e-40f7-d5d1-e4a9f66a1e2a"
      },
      "execution_count": 30,
      "outputs": [
        {
          "output_type": "display_data",
          "data": {
            "text/plain": [
              "<Figure size 432x288 with 1 Axes>"
            ],
            "image/png": "[encoded data removed]"
          },
          "metadata": {
            "needs_background": "light"
          }
        }
      ]
    },
    {
      "cell_type": "code",
      "source": [
        "# We can see here that we have some outlier data, no house should have 140 rooms\n",
        "df[df[\"oda_salon_sayisi\"] > 7][\"oda_salon_sayisi\"].plot(kind=\"hist\")\n",
        "plt.show()"
      ],
      "metadata": {
        "colab": {
          "base_uri": "https://localhost:8080/",
          "height": 265
        },
        "id": "3P6gP_kRCiMH",
        "outputId": "15b20081-ac1c-4f53-9d1b-43f3301c7c89"
      },
      "execution_count": 31,
      "outputs": [
        {
          "output_type": "display_data",
          "data": {
            "text/plain": [
              "<Figure size 432x288 with 1 Axes>"
            ],
            "image/png": "[encoded data removed]"
          },
          "metadata": {
            "needs_background": "light"
          }
        }
      ]
    },
    {
      "cell_type": "code",
      "source": [
        "# Building age does not have significant wrong data entries\n",
        "df[\"bina_yasi\"].plot(kind=\"hist\")\n",
        "plt.show()"
      ],
      "metadata": {
        "colab": {
          "base_uri": "https://localhost:8080/",
          "height": 265
        },
        "id": "SlSL-puFCiBX",
        "outputId": "b4835c22-5d2e-4825-bba9-6a82db0fc91c"
      },
      "execution_count": 32,
      "outputs": [
        {
          "output_type": "display_data",
          "data": {
            "text/plain": [
              "<Figure size 432x288 with 1 Axes>"
            ],
            "image/png": "[encoded data removed]"
          },
          "metadata": {
            "needs_background": "light"
          }
        }
      ]
    },
    {
      "cell_type": "code",
      "source": [
        "# We have some outliers in price but they do not seem to be wrong data points\n",
        "# High prices are likely to be luxury houses and mansions \n",
        "# and low prices seem like rentals\n",
        "df[(df[\"fiyat\"] > 5_000_000)][\"fiyat\"].plot(kind=\"hist\")\n",
        "plt.show()\n",
        "df[(df[\"fiyat\"] < 10_000)][\"fiyat\"].plot(kind=\"hist\")\n",
        "plt.show()"
      ],
      "metadata": {
        "colab": {
          "base_uri": "https://localhost:8080/",
          "height": 526
        },
        "id": "Vc5Fbsd8EHD-",
        "outputId": "929474d5-7c1e-41a2-bffb-6f95093e3920"
      },
      "execution_count": 33,
      "outputs": [
        {
          "output_type": "display_data",
          "data": {
            "text/plain": [
              "<Figure size 432x288 with 1 Axes>"
            ],
            "image/png": "[encoded data removed]"
          },
          "metadata": {
            "needs_background": "light"
          }
        },
        {
          "output_type": "display_data",
          "data": {
            "text/plain": [
              "<Figure size 432x288 with 1 Axes>"
            ],
            "image/png": "[encoded data removed]"
          },
          "metadata": {
            "needs_background": "light"
          }
        }
      ]
    },
    {
      "cell_type": "markdown",
      "source": [
        "## Preprocessing & Cleaning"
      ],
      "metadata": {
        "id": "saBBowNWM0HI"
      }
    },
    {
      "cell_type": "code",
      "source": [
        "# Fix typos in education\n",
        "df['egitim'] = df['egitim'].str.replace('liS3','Lise')\n",
        "df['egitim'] = df['egitim'].str.replace('liSans','Lisans')\n",
        "\n",
        "# Fix typos in district\n",
        "df['ilce'] = df['ilce'].str.replace('cankaya', 'Çankaya')\n",
        "\n",
        "# Fill nan values according to district; \n",
        "# population, education and literacy all depend on district\n",
        "for i, row in df.iterrows():\n",
        "  if pd.isnull(row[\"ilce\"]):\n",
        "    df.loc[i, \"ilce\"] = df[df.nufus == row.nufus][\"ilce\"].value_counts().idxmax()\n",
        "  if pd.isnull(row[\"nufus\"]):\n",
        "    df.loc[i, \"nufus\"] = df[df.ilce == row.ilce][\"nufus\"].value_counts().idxmax()\n",
        "  if pd.isnull(row[\"egitim\"]):\n",
        "    df.loc[i, \"egitim\"] = df[df.ilce == row.ilce][\"egitim\"].value_counts().idxmax()\n",
        "  if pd.isnull(row[\"okuma_yazma_bilmeyen\"]):\n",
        "    df.loc[i, \"okuma_yazma_bilmeyen\"] = df[df.ilce == row.ilce][\"okuma_yazma_bilmeyen\"].value_counts().idxmax()\n"
      ],
      "metadata": {
        "id": "nIb6WuIs4uyP"
      },
      "execution_count": 34,
      "outputs": []
    },
    {
      "cell_type": "code",
      "source": [
        "# At this stage we make a copy of the original dataframe for exploration later on\n",
        "df_copy = df.copy()"
      ],
      "metadata": {
        "id": "ujTdbKgepFGE"
      },
      "execution_count": 35,
      "outputs": []
    },
    {
      "cell_type": "code",
      "source": [
        "# Encoding education column as binary\n",
        "df.loc[df[\"egitim\"] == \"Lise\" , \"egitim\"] = 0\n",
        "df.loc[df[\"egitim\"] == \"Lisans\" , \"egitim\"] = 1\n",
        "\n",
        "# Encoding heating type as integer\n",
        "# We try to give the category with higher median prices a larger number\n",
        "df.loc[df[\"isinma_tipi\"] == \"Kombi\" , \"isinma_tipi\"] = 0\n",
        "df.loc[df[\"isinma_tipi\"] == \"Merkezi(PayÖlçer)\" , \"isinma_tipi\"] = 2\n",
        "df.loc[df[\"isinma_tipi\"] == \"Merkezi\" , \"isinma_tipi\"] = 1\n",
        "df.loc[df[\"isinma_tipi\"] == \"KatKaloriferi\" , \"isinma_tipi\"] = 1\n",
        "df.loc[df[\"isinma_tipi\"] == \"Klima\" , \"isinma_tipi\"] = 1\n",
        "# Filling na values with 0 as they may be buildings with no heating\n",
        "df.fillna({'isinma_tipi':0},inplace=True)\n",
        "\n",
        "# Encoding and grouping building floor data\n",
        "# Again we tried to give integer values according to these categories efffects on price\n",
        "df.loc[df[\"bulundugu_kat\"] == \"Kot 1\" , \"bulundugu_kat\"] = 0\n",
        "df.loc[df[\"bulundugu_kat\"] == \"Yüksek Giriþ\" , \"bulundugu_kat\"] = 0\n",
        "df.loc[df[\"bulundugu_kat\"] == \"Kot 3\" , \"bulundugu_kat\"] = 0\n",
        "df.loc[df[\"bulundugu_kat\"] == \"Kot 2\" , \"bulundugu_kat\"] = 0\n",
        "df.loc[df[\"bulundugu_kat\"] == \"Bodrum\" , \"bulundugu_kat\"] = 0\n",
        "df.loc[df[\"bulundugu_kat\"] == \"1. Kat\" , \"bulundugu_kat\"] = 1\n",
        "df.loc[df[\"bulundugu_kat\"] == \"Bahçe Katý\" , \"bulundugu_kat\"] = 1\n",
        "df.loc[df[\"bulundugu_kat\"] == \"Zemin\" , \"bulundugu_kat\"] = 1\n",
        "df.loc[df[\"bulundugu_kat\"] == \"Giriþ Katý\" , \"bulundugu_kat\"] = 1\n",
        "df.loc[df[\"bulundugu_kat\"] == \"Çatý Katý\" , \"bulundugu_kat\"] = 1\n",
        "df.loc[df[\"bulundugu_kat\"] == \"2. Kat\" , \"bulundugu_kat\"] = 2\n",
        "df.loc[df[\"bulundugu_kat\"] == \"3. Kat\" , \"bulundugu_kat\"] = 2\n",
        "df.loc[df[\"bulundugu_kat\"] == \"4. Kat\" , \"bulundugu_kat\"] = 2\n",
        "df.loc[df[\"bulundugu_kat\"] == \"5. Kat\" , \"bulundugu_kat\"] = 2\n",
        "df.loc[df[\"bulundugu_kat\"] == \"Teras Katý\" , \"bulundugu_kat\"] = 2\n",
        "df.loc[df[\"bulundugu_kat\"] == \"En Üst Kat\" , \"bulundugu_kat\"] = 2\n",
        "df.loc[df[\"bulundugu_kat\"] == \"6. Kat\" , \"bulundugu_kat\"] = 3\n",
        "df.loc[df[\"bulundugu_kat\"] == \"7. Kat\" , \"bulundugu_kat\"] = 3\n",
        "df.loc[df[\"bulundugu_kat\"] == \"8. Kat\" , \"bulundugu_kat\"] = 3\n",
        "df.loc[df[\"bulundugu_kat\"] == \"9. Kat\" , \"bulundugu_kat\"] = 3\n",
        "df.loc[df[\"bulundugu_kat\"] == \"10. Kat\" , \"bulundugu_kat\"] = 3\n",
        "df.loc[df[\"bulundugu_kat\"] == \"Ara Kat\" , \"bulundugu_kat\"] = 3\n",
        "df.loc[df[\"bulundugu_kat\"] == \"11. Kat\" , \"bulundugu_kat\"] = 4\n",
        "df.loc[df[\"bulundugu_kat\"] == \"12. Kat\" , \"bulundugu_kat\"] = 4\n",
        "df.loc[df[\"bulundugu_kat\"] == \"13. Kat\" , \"bulundugu_kat\"] = 4\n",
        "df.loc[df[\"bulundugu_kat\"] == \"14. Kat\" , \"bulundugu_kat\"] = 4\n",
        "df.loc[df[\"bulundugu_kat\"] == \"15. Kat\" , \"bulundugu_kat\"] = 4\n",
        "df.loc[df[\"bulundugu_kat\"] == \"16. Kat\" , \"bulundugu_kat\"] = 4\n",
        "df.loc[df[\"bulundugu_kat\"] == \"17. Kat\" , \"bulundugu_kat\"] = 4\n",
        "df.loc[df[\"bulundugu_kat\"] == \"18. Kat\" , \"bulundugu_kat\"] = 4\n",
        "df.loc[df[\"bulundugu_kat\"] == \"19. Kat\" , \"bulundugu_kat\"] = 4\n",
        "df.loc[df[\"bulundugu_kat\"] == \"20. Kat\" , \"bulundugu_kat\"] = 4\n",
        "df.loc[df[\"bulundugu_kat\"] == \"21 ve üzeri\" , \"bulundugu_kat\"] = 4\n",
        "df.loc[df[\"bulundugu_kat\"] == \"Müstakil\" , \"bulundugu_kat\"] = 5\n",
        "df.loc[df[\"bulundugu_kat\"] == \"Villa Katý\" , \"bulundugu_kat\"] = 5\n",
        "\n",
        "# Filling na values with 1 as that is most likely value\n",
        "df.fillna({'bulundugu_kat':1}, inplace=True)\n",
        "\n",
        "\n",
        "# Grouping building age variables\n",
        "# New values roughly correlate with demand\n",
        "df.loc[df[\"bina_yasi\"] < 6 , \"bina_yasi\"] = 3\n",
        "df.loc[(df[\"bina_yasi\"] >= 6 ) & (df[\"bina_yasi\"] <= 15 ), \"bina_yasi\"] = 2\n",
        "df.loc[(df[\"bina_yasi\"] >= 16 ) & (df[\"bina_yasi\"] <= 30 ), \"bina_yasi\"] = 1\n",
        "df.loc[ df[\"bina_yasi\"] > 30, \"bina_yasi\"] = 0\n",
        "\n",
        "# Fillna with 1, the most likely value\n",
        "df.fillna({'bina_yasi':1},inplace=True)\n",
        "\n",
        "\n",
        "# Encoding and grouping districts\n",
        "# Çankaya-Keçiören and Sincan-Mamak data points seem very similar\n",
        "df.loc[(df[\"ilce\"] == \"Çankaya\") | (df[\"ilce\"] == \"Keçiören\") , \"ilce\"] = 1\n",
        "df.loc[(df[\"ilce\"] == \"Sincan\") | (df[\"ilce\"] == \"Mamak\") , \"ilce\"] = 0\n",
        "\n",
        "\n",
        "# Encoding credit as a binary variable\n",
        "df.loc[df[\"krediye_uygunluk\"] == \"Uygun\" , \"krediye_uygunluk\"] = 1\n",
        "df.loc[df[\"krediye_uygunluk\"] == \"Uygun deðil\" , \"krediye_uygunluk\"] = 0\n",
        "df.fillna({'krediye_uygunluk':0},inplace=True)\n",
        "\n",
        "\n",
        "# Drop duplicate rows\n",
        "df.drop_duplicates(inplace=True)"
      ],
      "metadata": {
        "id": "rJpPAbdtpMns"
      },
      "execution_count": 36,
      "outputs": []
    },
    {
      "cell_type": "code",
      "source": [
        "# Population and literacy data does not give us any new information\n",
        "# We can derive the same information from district and education columns\n",
        "df.drop(['nufus','okuma_yazma_bilmeyen'],axis=1,inplace=True)"
      ],
      "metadata": {
        "id": "2JB_6XfNxrFo"
      },
      "execution_count": 37,
      "outputs": []
    },
    {
      "cell_type": "code",
      "source": [
        "df.info()"
      ],
      "metadata": {
        "colab": {
          "base_uri": "https://localhost:8080/"
        },
        "id": "xqECo2EPx7qG",
        "outputId": "f6b5f525-0af7-4d35-9140-f931c68f7698"
      },
      "execution_count": 38,
      "outputs": [
        {
          "output_type": "stream",
          "name": "stdout",
          "text": [
            "<class 'pandas.core.frame.DataFrame'>\n",
            "Int64Index: 3605 entries, 0 to 4220\n",
            "Data columns (total 10 columns):\n",
            " #   Column            Non-Null Count  Dtype  \n",
            "---  ------            --------------  -----  \n",
            " 0   fiyat             3595 non-null   float64\n",
            " 1   oda_salon_sayisi  3596 non-null   float64\n",
            " 2   net_m2            3596 non-null   float64\n",
            " 3   bina_yasi         3605 non-null   float64\n",
            " 4   isinma_tipi       3605 non-null   int64  \n",
            " 5   krediye_uygunluk  3605 non-null   int64  \n",
            " 6   bulundugu_kat     3605 non-null   int64  \n",
            " 7   banyo_sayisi      3597 non-null   float64\n",
            " 8   ilce              3605 non-null   object \n",
            " 9   egitim            3605 non-null   object \n",
            "dtypes: float64(5), int64(3), object(2)\n",
            "memory usage: 309.8+ KB\n"
          ]
        }
      ]
    },
    {
      "cell_type": "code",
      "source": [
        "df.describe()"
      ],
      "metadata": {
        "colab": {
          "base_uri": "https://localhost:8080/",
          "height": 364
        },
        "id": "KqYS7DWjyZPl",
        "outputId": "a1a94023-ffe7-4d4a-d5f4-4d3742b54393"
      },
      "execution_count": 39,
      "outputs": [
        {
          "output_type": "execute_result",
          "data": {
            "text/plain": [
              "              fiyat  oda_salon_sayisi       net_m2    bina_yasi  isinma_tipi  \\\n",
              "count  3.595000e+03       3596.000000  3596.000000  3605.000000  3605.000000   \n",
              "mean   6.158114e+05          4.365962   130.493326     1.691540     0.393897   \n",
              "std    5.585668e+05          4.289989    53.299847     0.994015     0.675533   \n",
              "min    3.250000e+02          1.000000   -98.000000     0.000000     0.000000   \n",
              "25%    3.250000e+05          4.000000   100.000000     1.000000     0.000000   \n",
              "50%    4.600000e+05          4.000000   120.000000     2.000000     0.000000   \n",
              "75%    7.000000e+05          4.000000   145.000000     3.000000     1.000000   \n",
              "max    8.850000e+06        153.000000   600.000000     3.000000     2.000000   \n",
              "\n",
              "       krediye_uygunluk  bulundugu_kat  banyo_sayisi  \n",
              "count       3605.000000    3605.000000   3597.000000  \n",
              "mean           0.980305       1.520943      1.480122  \n",
              "std            0.138969       0.987669      0.976337  \n",
              "min            0.000000       0.000000      1.000000  \n",
              "25%            1.000000       1.000000      1.000000  \n",
              "50%            1.000000       2.000000      1.000000  \n",
              "75%            1.000000       2.000000      2.000000  \n",
              "max            1.000000       5.000000     21.000000  "
            ],
            "text/html": [
              "\n",
              "  <div id=\"df-4aecea56-a9df-4942-afce-59edaf312093\">\n",
              "    <div class=\"colab-df-container\">\n",
              "      <div>\n",
              "<style scoped>\n",
              "    .dataframe tbody tr th:only-of-type {\n",
              "        vertical-align: middle;\n",
              "    }\n",
              "\n",
              "    .dataframe tbody tr th {\n",
              "        vertical-align: top;\n",
              "    }\n",
              "\n",
              "    .dataframe thead th {\n",
              "        text-align: right;\n",
              "    }\n",
              "</style>\n",
              "<table border=\"1\" class=\"dataframe\">\n",
              "  <thead>\n",
              "    <tr style=\"text-align: right;\">\n",
              "      <th></th>\n",
              "      <th>fiyat</th>\n",
              "      <th>oda_salon_sayisi</th>\n",
              "      <th>net_m2</th>\n",
              "      <th>bina_yasi</th>\n",
              "      <th>isinma_tipi</th>\n",
              "      <th>krediye_uygunluk</th>\n",
              "      <th>bulundugu_kat</th>\n",
              "      <th>banyo_sayisi</th>\n",
              "    </tr>\n",
              "  </thead>\n",
              "  <tbody>\n",
              "    <tr>\n",
              "      <th>count</th>\n",
              "      <td>3.595000e+03</td>\n",
              "      <td>3596.000000</td>\n",
              "      <td>3596.000000</td>\n",
              "      <td>3605.000000</td>\n",
              "      <td>3605.000000</td>\n",
              "      <td>3605.000000</td>\n",
              "      <td>3605.000000</td>\n",
              "      <td>3597.000000</td>\n",
              "    </tr>\n",
              "    <tr>\n",
              "      <th>mean</th>\n",
              "      <td>6.158114e+05</td>\n",
              "      <td>4.365962</td>\n",
              "      <td>130.493326</td>\n",
              "      <td>1.691540</td>\n",
              "      <td>0.393897</td>\n",
              "      <td>0.980305</td>\n",
              "      <td>1.520943</td>\n",
              "      <td>1.480122</td>\n",
              "    </tr>\n",
              "    <tr>\n",
              "      <th>std</th>\n",
              "      <td>5.585668e+05</td>\n",
              "      <td>4.289989</td>\n",
              "      <td>53.299847</td>\n",
              "      <td>0.994015</td>\n",
              "      <td>0.675533</td>\n",
              "      <td>0.138969</td>\n",
              "      <td>0.987669</td>\n",
              "      <td>0.976337</td>\n",
              "    </tr>\n",
              "    <tr>\n",
              "      <th>min</th>\n",
              "      <td>3.250000e+02</td>\n",
              "      <td>1.000000</td>\n",
              "      <td>-98.000000</td>\n",
              "      <td>0.000000</td>\n",
              "      <td>0.000000</td>\n",
              "      <td>0.000000</td>\n",
              "      <td>0.000000</td>\n",
              "      <td>1.000000</td>\n",
              "    </tr>\n",
              "    <tr>\n",
              "      <th>25%</th>\n",
              "      <td>3.250000e+05</td>\n",
              "      <td>4.000000</td>\n",
              "      <td>100.000000</td>\n",
              "      <td>1.000000</td>\n",
              "      <td>0.000000</td>\n",
              "      <td>1.000000</td>\n",
              "      <td>1.000000</td>\n",
              "      <td>1.000000</td>\n",
              "    </tr>\n",
              "    <tr>\n",
              "      <th>50%</th>\n",
              "      <td>4.600000e+05</td>\n",
              "      <td>4.000000</td>\n",
              "      <td>120.000000</td>\n",
              "      <td>2.000000</td>\n",
              "      <td>0.000000</td>\n",
              "      <td>1.000000</td>\n",
              "      <td>2.000000</td>\n",
              "      <td>1.000000</td>\n",
              "    </tr>\n",
              "    <tr>\n",
              "      <th>75%</th>\n",
              "      <td>7.000000e+05</td>\n",
              "      <td>4.000000</td>\n",
              "      <td>145.000000</td>\n",
              "      <td>3.000000</td>\n",
              "      <td>1.000000</td>\n",
              "      <td>1.000000</td>\n",
              "      <td>2.000000</td>\n",
              "      <td>2.000000</td>\n",
              "    </tr>\n",
              "    <tr>\n",
              "      <th>max</th>\n",
              "      <td>8.850000e+06</td>\n",
              "      <td>153.000000</td>\n",
              "      <td>600.000000</td>\n",
              "      <td>3.000000</td>\n",
              "      <td>2.000000</td>\n",
              "      <td>1.000000</td>\n",
              "      <td>5.000000</td>\n",
              "      <td>21.000000</td>\n",
              "    </tr>\n",
              "  </tbody>\n",
              "</table>\n",
              "</div>\n",
              "      <button class=\"colab-df-convert\" onclick=\"convertToInteractive('df-4aecea56-a9df-4942-afce-59edaf312093')\"\n",
              "              title=\"Convert this dataframe to an interactive table.\"\n",
              "              style=\"display:none;\">\n",
              "        \n",
              "  <svg xmlns=\"http://www.w3.org/2000/svg\" height=\"24px\"viewBox=\"0 0 24 24\"\n",
              "       width=\"24px\">\n",
              "    <path d=\"M0 0h24v24H0V0z\" fill=\"none\"/>\n",
              "    <path d=\"M18.56 5.44l.94 2.06.94-2.06 2.06-.94-2.06-.94-.94-2.06-.94 2.06-2.06.94zm-11 1L8.5 8.5l.94-2.06 2.06-.94-2.06-.94L8.5 2.5l-.94 2.06-2.06.94zm10 10l.94 2.06.94-2.06 2.06-.94-2.06-.94-.94-2.06-.94 2.06-2.06.94z\"/><path d=\"M17.41 7.96l-1.37-1.37c-.4-.4-.92-.59-1.43-.59-.52 0-1.04.2-1.43.59L10.3 9.45l-7.72 7.72c-.78.78-.78 2.05 0 2.83L4 21.41c.39.39.9.59 1.41.59.51 0 1.02-.2 1.41-.59l7.78-7.78 2.81-2.81c.8-.78.8-2.07 0-2.86zM5.41 20L4 18.59l7.72-7.72 1.47 1.35L5.41 20z\"/>\n",
              "  </svg>\n",
              "      </button>\n",
              "      \n",
              "  <style>\n",
              "    .colab-df-container {\n",
              "      display:flex;\n",
              "      flex-wrap:wrap;\n",
              "      gap: 12px;\n",
              "    }\n",
              "\n",
              "    .colab-df-convert {\n",
              "      background-color: #E8F0FE;\n",
              "      border: none;\n",
              "      border-radius: 50%;\n",
              "      cursor: pointer;\n",
              "      display: none;\n",
              "      fill: #1967D2;\n",
              "      height: 32px;\n",
              "      padding: 0 0 0 0;\n",
              "      width: 32px;\n",
              "    }\n",
              "\n",
              "    .colab-df-convert:hover {\n",
              "      background-color: #E2EBFA;\n",
              "      box-shadow: 0px 1px 2px rgba(60, 64, 67, 0.3), 0px 1px 3px 1px rgba(60, 64, 67, 0.15);\n",
              "      fill: #174EA6;\n",
              "    }\n",
              "\n",
              "    [theme=dark] .colab-df-convert {\n",
              "      background-color: #3B4455;\n",
              "      fill: #D2E3FC;\n",
              "    }\n",
              "\n",
              "    [theme=dark] .colab-df-convert:hover {\n",
              "      background-color: #434B5C;\n",
              "      box-shadow: 0px 1px 3px 1px rgba(0, 0, 0, 0.15);\n",
              "      filter: drop-shadow(0px 1px 2px rgba(0, 0, 0, 0.3));\n",
              "      fill: #FFFFFF;\n",
              "    }\n",
              "  </style>\n",
              "\n",
              "      <script>\n",
              "        const buttonEl =\n",
              "          document.querySelector('#df-4aecea56-a9df-4942-afce-59edaf312093 button.colab-df-convert');\n",
              "        buttonEl.style.display =\n",
              "          google.colab.kernel.accessAllowed ? 'block' : 'none';\n",
              "\n",
              "        async function convertToInteractive(key) {\n",
              "          const element = document.querySelector('#df-4aecea56-a9df-4942-afce-59edaf312093');\n",
              "          const dataTable =\n",
              "            await google.colab.kernel.invokeFunction('convertToInteractive',\n",
              "                                                     [key], {});\n",
              "          if (!dataTable) return;\n",
              "\n",
              "          const docLinkHtml = 'Like what you see? Visit the ' +\n",
              "            '<a target=\"_blank\" href=https://colab.research.google.com/notebooks/data_table.ipynb>data table notebook</a>'\n",
              "            + ' to learn more about interactive tables.';\n",
              "          element.innerHTML = '';\n",
              "          dataTable['output_type'] = 'display_data';\n",
              "          await google.colab.output.renderOutput(dataTable, element);\n",
              "          const docLink = document.createElement('div');\n",
              "          docLink.innerHTML = docLinkHtml;\n",
              "          element.appendChild(docLink);\n",
              "        }\n",
              "      </script>\n",
              "    </div>\n",
              "  </div>\n",
              "  "
            ]
          },
          "metadata": {},
          "execution_count": 39
        }
      ]
    },
    {
      "cell_type": "code",
      "source": [
        "df.isna().sum()"
      ],
      "metadata": {
        "colab": {
          "base_uri": "https://localhost:8080/"
        },
        "id": "SDfLjA5JydQu",
        "outputId": "5fb200a8-924e-4bef-9926-5a3b556102e1"
      },
      "execution_count": 40,
      "outputs": [
        {
          "output_type": "execute_result",
          "data": {
            "text/plain": [
              "fiyat               10\n",
              "oda_salon_sayisi     9\n",
              "net_m2               9\n",
              "bina_yasi            0\n",
              "isinma_tipi          0\n",
              "krediye_uygunluk     0\n",
              "bulundugu_kat        0\n",
              "banyo_sayisi         8\n",
              "ilce                 0\n",
              "egitim               0\n",
              "dtype: int64"
            ]
          },
          "metadata": {},
          "execution_count": 40
        }
      ]
    },
    {
      "cell_type": "code",
      "source": [
        "# For data points with nan m2 values, we fill it with median m2 value \n",
        "# among other houses with similar room numbers\n",
        "for i in df.loc[(df.net_m2.isna())].oda_salon_sayisi.unique():\n",
        "  df.loc[(df.oda_salon_sayisi == i) & (df.net_m2.isna()), 'net_m2'] = df[df.oda_salon_sayisi == 4]['net_m2'].median()   \n",
        "\n",
        "# Similarly, updating nan room numbers with median room number among similar m2\n",
        "for i in df.loc[(df.oda_salon_sayisi.isna())].net_m2.unique():\n",
        "  df.loc[(df.net_m2 == i) & (df.oda_salon_sayisi.isna()), 'oda_salon_sayisi'] = df[df.net_m2 == i]['oda_salon_sayisi'].median()\n"
      ],
      "metadata": {
        "id": "6FCFQHPe5ek0"
      },
      "execution_count": 41,
      "outputs": []
    },
    {
      "cell_type": "code",
      "source": [
        "# Correlation and outliers from m2 - price\n",
        "sns.boxplot(x=df['fiyat'],y=df['net_m2'])\n",
        "plt.show()"
      ],
      "metadata": {
        "colab": {
          "base_uri": "https://localhost:8080/",
          "height": 279
        },
        "id": "o3CzIp0Y9rfe",
        "outputId": "2b6068c5-5de4-475e-dcb5-471f329e577f"
      },
      "execution_count": 42,
      "outputs": [
        {
          "output_type": "display_data",
          "data": {
            "text/plain": [
              "<Figure size 432x288 with 1 Axes>"
            ],
            "image/png": "[encoded data removed]"
          },
          "metadata": {
            "needs_background": "light"
          }
        }
      ]
    },
    {
      "cell_type": "code",
      "source": [
        "# Price, number of rooms and bathrooms, m2 are columns with significant outliers\n",
        "# We can graph these columns to take a closer look\n",
        "columns_num = ['fiyat', 'oda_salon_sayisi', 'net_m2', 'banyo_sayisi']\n",
        "plt.figure(figsize=(10,20))\n",
        "for i,col in enumerate(columns_num,1):\n",
        "  plt.subplot(len(columns_num),2,i)\n",
        "  sns.boxplot(x=df[col])\n",
        "  plt.ylabel(col)\n",
        "plt.show()"
      ],
      "metadata": {
        "colab": {
          "base_uri": "https://localhost:8080/",
          "height": 583
        },
        "id": "6wFLpavW-90E",
        "outputId": "a23f000f-6b38-4bc0-e3e3-196ba13c6882"
      },
      "execution_count": 43,
      "outputs": [
        {
          "output_type": "display_data",
          "data": {
            "text/plain": [
              "<Figure size 720x1440 with 4 Axes>"
            ],
            "image/png": "[encoded data removed]"
          },
          "metadata": {
            "needs_background": "light"
          }
        }
      ]
    },
    {
      "cell_type": "code",
      "source": [
        "# Here we view tho outlier data points using standard deviation and z score\n",
        "mean=df['oda_salon_sayisi'].mean()\n",
        "std=df['oda_salon_sayisi'].std()\n",
        "threshold = 7\n",
        "outlier = [] \n",
        "for i in df['oda_salon_sayisi']: \n",
        "    z = (i-mean)/std \n",
        "    if z > threshold: \n",
        "        outlier.append(i) \n",
        "print('outlier in oda salon sayisi : ', outlier) \n",
        "\n",
        "\n",
        "mean=df['net_m2'].mean()\n",
        "std=df['net_m2'].std()\n",
        "threshold = 7\n",
        "outlier = [] \n",
        "for i in df['net_m2']: \n",
        "    z = (i-mean)/std \n",
        "    if z > threshold: \n",
        "        outlier.append(i) \n",
        "print('outlier in m2 : ', outlier) \n",
        "\n",
        "mean=df['fiyat'].mean()\n",
        "std=df['fiyat'].std()\n",
        "threshold = 7\n",
        "outlier = [] \n",
        "for i in df['fiyat']: \n",
        "    z = (i-mean)/std \n",
        "    if z > threshold: \n",
        "        outlier.append(i) \n",
        "print('outlier in fiyat : ', outlier) "
      ],
      "metadata": {
        "colab": {
          "base_uri": "https://localhost:8080/"
        },
        "id": "XKBZRneW_LnN",
        "outputId": "c47a498a-e553-4688-d579-dc2cd68b2d54"
      },
      "execution_count": 44,
      "outputs": [
        {
          "output_type": "stream",
          "name": "stdout",
          "text": [
            "outlier in oda salon sayisi :  [35.0, 39.0, 37.0, 45.0, 153.0, 41.0, 36.0, 153.0, 45.0]\n",
            "outlier in m2 :  [532.0, 532.0, 600.0]\n",
            "outlier in fiyat :  [5100000.0, 4750000.0, 8850000.0, 4670000.0, 7500000.0, 4750000.0, 8850000.0, 4670000.0, 5100000.0, 7500000.0]\n"
          ]
        }
      ]
    },
    {
      "cell_type": "code",
      "source": [
        "# We take houses smaller than 50 m2 as wrong entries and replace those values\n",
        "# using a decision tree regressor built with houses larger than 70 m^2 \n",
        "df_mod = df[df['net_m2'] > 70]\n",
        "\n",
        "df_mod.dropna(inplace=True)\n",
        "\n",
        "model = DecisionTreeRegressor(max_depth=3)\n",
        "\n",
        "y = df_mod['net_m2']\n",
        "X = df_mod[['fiyat','oda_salon_sayisi','banyo_sayisi']]\n",
        "\n",
        "model.fit(X, y)\n",
        "\n",
        "for i,row in df[df.net_m2 <50].iterrows():\n",
        "  a = np.array([row['fiyat'],row['oda_salon_sayisi'],row['banyo_sayisi']]).reshape(1, -1)\n",
        "  df.loc[i, \"net_m2\"] = model.predict(a)"
      ],
      "metadata": {
        "id": "B_9AmDYKDPqE"
      },
      "execution_count": 45,
      "outputs": []
    },
    {
      "cell_type": "code",
      "source": [
        "columns_num = ['net_m2']\n",
        "plt.figure(figsize=(6,6))\n",
        "for i,col in enumerate(columns_num,1):\n",
        "  plt.subplot(len(columns_num),1,i)\n",
        "  sns.boxplot(x=df[col])\n",
        "  plt.ylabel(col)\n",
        "plt.show()"
      ],
      "metadata": {
        "colab": {
          "base_uri": "https://localhost:8080/",
          "height": 389
        },
        "id": "TQ5QHPIjHhFb",
        "outputId": "2b619001-e4bf-4d74-ab8a-c5ae9bb9b378"
      },
      "execution_count": 46,
      "outputs": [
        {
          "output_type": "display_data",
          "data": {
            "text/plain": [
              "<Figure size 432x432 with 1 Axes>"
            ],
            "image/png": "[encoded data removed]"
          },
          "metadata": {
            "needs_background": "light"
          }
        }
      ]
    },
    {
      "cell_type": "code",
      "source": [
        "df.isna().sum()"
      ],
      "metadata": {
        "colab": {
          "base_uri": "https://localhost:8080/"
        },
        "id": "v8iKaNHZ9ffW",
        "outputId": "5e0a054e-088d-463c-f82f-77468bf62b77"
      },
      "execution_count": 47,
      "outputs": [
        {
          "output_type": "execute_result",
          "data": {
            "text/plain": [
              "fiyat               10\n",
              "oda_salon_sayisi     1\n",
              "net_m2               1\n",
              "bina_yasi            0\n",
              "isinma_tipi          0\n",
              "krediye_uygunluk     0\n",
              "bulundugu_kat        0\n",
              "banyo_sayisi         8\n",
              "ilce                 0\n",
              "egitim               0\n",
              "dtype: int64"
            ]
          },
          "metadata": {},
          "execution_count": 47
        }
      ]
    },
    {
      "cell_type": "code",
      "source": [
        "# Drop rows with missing price and rows with missing room number and m2\n",
        "# as we cannot reliably fill those, and there are only ~20 such rows\n",
        "df.dropna(inplace=True)"
      ],
      "metadata": {
        "id": "yaII5JNDH1nq"
      },
      "execution_count": 48,
      "outputs": []
    },
    {
      "cell_type": "code",
      "source": [
        "dataplot = sns.heatmap(df.corr(), cmap=\"YlGnBu\", annot=True)"
      ],
      "metadata": {
        "colab": {
          "base_uri": "https://localhost:8080/",
          "height": 348
        },
        "id": "oztL_hn3LwwS",
        "outputId": "e836d2e9-0ebc-4614-8a8e-154fcdd6c7e6"
      },
      "execution_count": 49,
      "outputs": [
        {
          "output_type": "display_data",
          "data": {
            "text/plain": [
              "<Figure size 432x288 with 2 Axes>"
            ],
            "image/png": "[encoded data removed]"
          },
          "metadata": {
            "needs_background": "light"
          }
        }
      ]
    },
    {
      "cell_type": "markdown",
      "source": [
        "## Data Exploration & Insights "
      ],
      "metadata": {
        "id": "fHO9GLHJNBV7"
      }
    },
    {
      "cell_type": "markdown",
      "source": [
        "### Viewing the relationship of Price & m^2 and examining the results of preprocessing on this"
      ],
      "metadata": {
        "id": "pyyqx6Hj4xyR"
      }
    },
    {
      "cell_type": "code",
      "source": [
        "# Here we view price-m2 relationship before and after preprocessing\n",
        "sns.scatterplot(data=df_copy, x=\"net_m2\", y=\"fiyat\")\n",
        "plt.show()\n",
        "sns.scatterplot(data=df, x=\"net_m2\", y=\"fiyat\")\n",
        "plt.show()"
      ],
      "metadata": {
        "id": "AHuKbkiDNmYQ",
        "colab": {
          "base_uri": "https://localhost:8080/",
          "height": 565
        },
        "outputId": "126a98ef-8c61-4965-cb26-a23800565b92"
      },
      "execution_count": 50,
      "outputs": [
        {
          "output_type": "display_data",
          "data": {
            "text/plain": [
              "<Figure size 432x288 with 1 Axes>"
            ],
            "image/png": "[encoded data removed]"
          },
          "metadata": {
            "needs_background": "light"
          }
        },
        {
          "output_type": "display_data",
          "data": {
            "text/plain": [
              "<Figure size 432x288 with 1 Axes>"
            ],
            "image/png": "[encoded data removed]"
          },
          "metadata": {
            "needs_background": "light"
          }
        }
      ]
    },
    {
      "cell_type": "markdown",
      "source": [
        "We can see wrong entries moving closer to other data points on the lower left corner. This is especially easy to see with the building that is ~0 m2 and 7.8 mil price in the first graph. In the second graph it moved to ~350 m2, which is a reasonable assumption. \n",
        "\n",
        "One interesting observation is the relatively cheap building on the rightmost edge.\n",
        "\n",
        "When we take a closer look we saw that the building has 18 rooms and it is relatively new.\n",
        "\n",
        "It is likely for that building to be a dormitory or used for a similar purpose so we chose to leave it as is.\n"
      ],
      "metadata": {
        "id": "SB4hHMJOMaij"
      }
    },
    {
      "cell_type": "markdown",
      "source": [
        "### Looking for apartment buildings in each district"
      ],
      "metadata": {
        "id": "NstGZmTV4hbJ"
      }
    },
    {
      "cell_type": "code",
      "source": [
        "# Here we are trying to look for buildings that are higher than floor 2 and\n",
        "# heated with 'merkezi'. These are likely to be apartment buildings.\n",
        "df3 = df_copy.copy()\n",
        "\n",
        "yuksek_katlar = [\"2. Kat\" , \"3. Kat\" , \"4. Kat\" , \"5. Kat\" , \"Teras Katý\", \"En Üst Kat\",\n",
        "\"6. Kat\" , \"7. Kat\" , \"8. Kat\" , \"9. Kat\" , \"10. Kat\" , \"Ara Kat\" , \"11. Kat\" ,\n",
        "\"12. Kat\" , \"13. Kat\" , \"14. Kat\" , \"15. Kat\" , \"16. Kat\" , \"17. Kat\" , \n",
        "\"18. Kat\" , \"19. Kat\" , \"20. Kat\" , \"21 ve üzeri\", \"Çatý Katý\"]\n",
        "\n",
        "for kat in yuksek_katlar:\n",
        "  df3.loc[df3[\"bulundugu_kat\"] == kat , \"bulundugu_kat\"] = \"Yuksek\"\n",
        "\n",
        "def absolute_value(val):\n",
        "    a  = np.round(val/100.*y.sum(), 0)\n",
        "    return a\n",
        "  \n",
        "dic = {}\n",
        "for ilce in df3.ilce.unique():\n",
        "  df_temp = df3[(df3.isinma_tipi == \"Merkezi\") & (df3.bulundugu_kat == \"Yuksek\") \n",
        "  & (df3.ilce == ilce)]\n",
        "  dic[ilce] = df_temp.shape[0]\n",
        "\n",
        "y = np.array(list(dic.values()))\n",
        "mylabels = list(dic.keys())\n",
        "myexplode = [0.1, 0.1, 0.1, 0.4]\n",
        "\n",
        "plt.pie(y, labels=mylabels, explode=myexplode, shadow=True, autopct=absolute_value)\n",
        "plt.show() "
      ],
      "metadata": {
        "id": "ryOudeMUZer2",
        "colab": {
          "base_uri": "https://localhost:8080/",
          "height": 249
        },
        "outputId": "634bf7fc-3cb2-44cd-b70b-36ba61804857"
      },
      "execution_count": 70,
      "outputs": [
        {
          "output_type": "display_data",
          "data": {
            "text/plain": [
              "<Figure size 432x288 with 1 Axes>"
            ],
            "image/png": "[encoded data removed]"
          },
          "metadata": {}
        }
      ]
    },
    {
      "cell_type": "markdown",
      "source": [
        "We can see that Çankaya & Keçiören have a similar number of apartment buildings, and Mamak & Sincan have relatively few.\n",
        "\n",
        "This further reinforces our decision to group these 2 districts together in preprocessing step."
      ],
      "metadata": {
        "id": "To2opB5aMkcd"
      }
    },
    {
      "cell_type": "markdown",
      "source": [
        "### Finding the district with the highest number of student accomodations"
      ],
      "metadata": {
        "id": "VjjDsa6s4N97"
      }
    },
    {
      "cell_type": "code",
      "source": [
        "# In this part lets view houses cheaper than 5k according to district and education\n",
        "df_temp = df_copy[df_copy.fiyat <= 5000]\n",
        "\n",
        "ax = sns.swarmplot(data=df_temp, x=\"fiyat\", y=\"egitim\", hue=\"ilce\")\n",
        "ax.set_title(\"Fiyatı 5000'den ucuz olan evlerin ilçelere göre dağılımı\")\n",
        "plt.show()"
      ],
      "metadata": {
        "colab": {
          "base_uri": "https://localhost:8080/",
          "height": 295
        },
        "id": "F8Avh11NNlEI",
        "outputId": "3c3b2148-0e95-4786-8aac-0acf629edc24"
      },
      "execution_count": 52,
      "outputs": [
        {
          "output_type": "display_data",
          "data": {
            "text/plain": [
              "<Figure size 432x288 with 1 Axes>"
            ],
            "image/png": "[encoded data removed]"
          },
          "metadata": {
            "needs_background": "light"
          }
        }
      ]
    },
    {
      "cell_type": "markdown",
      "source": [
        "Prices cheaper than 5000 are likely rentals and we can see Keçiören and Çankaya have a considerable number of such buildings.\n",
        "\n",
        "Education level being 'bachelor' along with a large number of rentals might indicate that the area has a high number of students living there. \n",
        "\n",
        "If we think about what we can discern from other sources (such as google), this observation holds true."
      ],
      "metadata": {
        "id": "iuWJ5KqkNzsS"
      }
    },
    {
      "cell_type": "markdown",
      "source": [
        "### Searching for most affordable heating in each district"
      ],
      "metadata": {
        "id": "BdzhexGI4Akc"
      }
    },
    {
      "cell_type": "code",
      "source": [
        "# In this part we are looking at the cheapest heating type according to district\n",
        "ilce_list = df_copy[\"ilce\"].unique()\n",
        "\n",
        "for ilce in ilce_list:\n",
        "  ax = sns.barplot(x=\"isinma_tipi\", y=\"fiyat\", data=df_copy[df_copy.ilce == ilce], hue=\"isinma_tipi\", dodge=False)\n",
        "  ax.set_title(f\"İlçe: {ilce}\")\n",
        "  plt.show()"
      ],
      "metadata": {
        "id": "--OVXgQNNhA5",
        "colab": {
          "base_uri": "https://localhost:8080/",
          "height": 1000
        },
        "outputId": "fe0386a2-8a42-413e-d567-e107ab987523"
      },
      "execution_count": 65,
      "outputs": [
        {
          "output_type": "display_data",
          "data": {
            "text/plain": [
              "<Figure size 432x288 with 1 Axes>"
            ],
            "image/png": "[encoded data removed]"
          },
          "metadata": {
            "needs_background": "light"
          }
        },
        {
          "output_type": "display_data",
          "data": {
            "text/plain": [
              "<Figure size 432x288 with 1 Axes>"
            ],
            "image/png": "[encoded data removed]"
          },
          "metadata": {
            "needs_background": "light"
          }
        },
        {
          "output_type": "display_data",
          "data": {
            "text/plain": [
              "<Figure size 432x288 with 1 Axes>"
            ],
            "image/png": "[encoded data removed]"
          },
          "metadata": {
            "needs_background": "light"
          }
        },
        {
          "output_type": "display_data",
          "data": {
            "text/plain": [
              "<Figure size 432x288 with 1 Axes>"
            ],
            "image/png": "[encoded data removed]"
          },
          "metadata": {
            "needs_background": "light"
          }
        }
      ]
    },
    {
      "cell_type": "markdown",
      "source": [
        "Kombi looks like the most affordable option in all districts. This is followed by Merkezi in all districts but Keçiören. In Keçiören, thw 2nd most affordable option is Klima.\n",
        "\n",
        "In Çankaya and Keçiören, we see a wild variation in prices for Kat Kaloriferi. This is likely because the type of heating used in affordable and luxury houses, altough they look and function somewhat differently, are both labeled as 'Kat Kaloriferi'.\n",
        "\n",
        "These graphs are also somewhat skewed because they include the houses with prices lower than 5000, the houses we previously assumed were rentals. It would make sense to draw different graphs for these groups."
      ],
      "metadata": {
        "id": "WNqcjg_vOESZ"
      }
    },
    {
      "cell_type": "code",
      "source": [
        "df_rental = df_copy.loc[df_copy.fiyat < 5000].sort_values('fiyat')\n",
        "df_sale = df_copy.loc[df_copy.fiyat >= 5000].sort_values('fiyat')\n",
        "\n",
        "# Draw a nested barplot by species and sex\n",
        "\n",
        "g = sns.catplot(\n",
        "    data=df_rental, kind=\"bar\",\n",
        "    x=\"ilce\", y=\"fiyat\", hue=\"isinma_tipi\",\n",
        "    ci=\"sd\", palette=\"dark\", alpha=.6, height=6\n",
        ")\n",
        "g.despine(left=True)\n",
        "g.set_axis_labels(\"\", \"Price\")\n",
        "g.fig.suptitle('Prices by Heating Among Rentals')\n",
        "g.legend.set_title(\"\")\n",
        "plt.show()\n",
        "\n",
        "g = sns.catplot(\n",
        "    data=df_sale, kind=\"bar\",\n",
        "    x=\"ilce\", y=\"fiyat\", hue=\"isinma_tipi\",\n",
        "    ci=\"sd\", palette=\"dark\", alpha=.6, height=6\n",
        ")\n",
        "g.despine(left=True)\n",
        "g.set_axis_labels(\"\", \"Price (Mil)\")\n",
        "g.fig.suptitle('Prices by Heating Among Houses For Sale')\n",
        "g.legend.set_title(\"\")\n",
        "plt.show()"
      ],
      "metadata": {
        "id": "GlbTs8OzQIKz",
        "colab": {
          "base_uri": "https://localhost:8080/",
          "height": 841
        },
        "outputId": "463e8c58-f317-4ec7-bcb0-fb4b20f2ff3b"
      },
      "execution_count": 69,
      "outputs": [
        {
          "output_type": "display_data",
          "data": {
            "text/plain": [
              "<Figure size 557.875x432 with 1 Axes>"
            ],
            "image/png": "[encoded data removed]"
          },
          "metadata": {
            "needs_background": "light"
          }
        },
        {
          "output_type": "display_data",
          "data": {
            "text/plain": [
              "<Figure size 557.875x432 with 1 Axes>"
            ],
            "image/png": "[encoded data removed]"
          },
          "metadata": {
            "needs_background": "light"
          }
        }
      ]
    },
    {
      "cell_type": "markdown",
      "source": [
        "This is a bit more clear. Kombi is still the cheapest option for all categories, Kombi and Merkezi prices are much closer for every district and average price of Klima houses is actually lower for Keçiören."
      ],
      "metadata": {
        "id": "MNLDJpG-3Vuc"
      }
    },
    {
      "cell_type": "code",
      "source": [
        ""
      ],
      "metadata": {
        "id": "XfG0NxJiz5k4"
      },
      "execution_count": null,
      "outputs": []
    }
  ]
}