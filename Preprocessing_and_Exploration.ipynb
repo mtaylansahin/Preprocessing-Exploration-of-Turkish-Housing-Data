{
  "cells": [
    {
      "cell_type": "markdown",
      "metadata": {
        "id": "EiFJuW-vNq-U"
      },
      "source": [
        "## Importing Libraries"
      ]
    },
    {
      "cell_type": "code",
      "execution_count": 1,
      "metadata": {
        "id": "EWDO0PXVHKyj"
      },
      "outputs": [],
      "source": [
        "import pandas as pd\n",
        "import numpy as np\n",
        "import matplotlib.pyplot as plt\n",
        "import seaborn as sns\n",
        "from sklearn.tree import DecisionTreeRegressor\n",
        "import warnings\n",
        "\n",
        "warnings.filterwarnings(\"ignore\")"
      ]
    },
    {
      "cell_type": "markdown",
      "metadata": {
        "id": "ZgGnYR8INxOj"
      },
      "source": [
        "## Reading Data & Initial Exploration"
      ]
    },
    {
      "cell_type": "markdown",
      "metadata": {
        "id": "N31HiJOE6Gw8"
      },
      "source": [
        "The dataset is primarily centered around the housing market of Ankara, Turkey. The variables are explained below.\n",
        "\n",
        "**id:** id of house\n",
        "\n",
        "**fiyat:** sale price of house (TL)\n",
        "\n",
        "**oda_salon_sayisi:** total number of rooms in the house\n",
        "\n",
        "**net_m2:** size of house (in m2)\n",
        "\n",
        "**bina_yasi:** age of the house (in years)\n",
        "\n",
        "**isinma_tipi:** type of heating system for the house\n",
        "\n",
        "**krediye_uygunluk:** situation of suitability for credit\n",
        "\n",
        "**bulundugu_kat:** position of the house (floor number)\n",
        "\n",
        "**banyo_sayisi:** number of bathrooms in the house\n",
        "\n",
        "**ilce:** name of the district where the house locates in\n",
        "\n",
        "**nüfus:** population of district where the house locates in\n",
        "\n",
        "**eğitim:** education level of the district where the house locates in\n",
        "\n",
        "**okuma_yazma_bilmeyen:** percentage of the illiterate population of the district where the house locates in"
      ]
    },
    {
      "cell_type": "code",
      "execution_count": 3,
      "metadata": {
        "colab": {
          "base_uri": "https://localhost:8080/",
          "height": 270
        },
        "id": "_7ZXoGonHjE5",
        "outputId": "368360e3-e4da-4383-c5b3-e8d44a8e5cf5"
      },
      "outputs": [
        {
          "data": {
            "text/html": [
              "\n",
              "  <div id=\"df-90bc5e42-60b0-4921-ae8b-2a48614db9fc\">\n",
              "    <div class=\"colab-df-container\">\n",
              "      <div>\n",
              "<style scoped>\n",
              "    .dataframe tbody tr th:only-of-type {\n",
              "        vertical-align: middle;\n",
              "    }\n",
              "\n",
              "    .dataframe tbody tr th {\n",
              "        vertical-align: top;\n",
              "    }\n",
              "\n",
              "    .dataframe thead th {\n",
              "        text-align: right;\n",
              "    }\n",
              "</style>\n",
              "<table border=\"1\" class=\"dataframe\">\n",
              "  <thead>\n",
              "    <tr style=\"text-align: right;\">\n",
              "      <th></th>\n",
              "      <th>fiyat</th>\n",
              "      <th>oda_salon_sayisi</th>\n",
              "      <th>net_m2</th>\n",
              "      <th>bina_yasi</th>\n",
              "      <th>isinma_tipi</th>\n",
              "      <th>krediye_uygunluk</th>\n",
              "      <th>bulundugu_kat</th>\n",
              "      <th>banyo_sayisi</th>\n",
              "      <th>ilce</th>\n",
              "      <th>nufus</th>\n",
              "      <th>egitim</th>\n",
              "      <th>okuma_yazma_bilmeyen</th>\n",
              "    </tr>\n",
              "  </thead>\n",
              "  <tbody>\n",
              "    <tr>\n",
              "      <th>0</th>\n",
              "      <td>275000.0</td>\n",
              "      <td>4.0</td>\n",
              "      <td>120.0</td>\n",
              "      <td>12.0</td>\n",
              "      <td>Kombi</td>\n",
              "      <td>Uygun</td>\n",
              "      <td>Kot 1</td>\n",
              "      <td>1.0</td>\n",
              "      <td>Çankaya</td>\n",
              "      <td>925828.0</td>\n",
              "      <td>Lisans</td>\n",
              "      <td>0.70</td>\n",
              "    </tr>\n",
              "    <tr>\n",
              "      <th>1</th>\n",
              "      <td>700000.0</td>\n",
              "      <td>3.0</td>\n",
              "      <td>88.0</td>\n",
              "      <td>0.0</td>\n",
              "      <td>Merkezi(PayÖlçer)</td>\n",
              "      <td>Uygun</td>\n",
              "      <td>1. Kat</td>\n",
              "      <td>1.0</td>\n",
              "      <td>Çankaya</td>\n",
              "      <td>925828.0</td>\n",
              "      <td>Lisans</td>\n",
              "      <td>0.70</td>\n",
              "    </tr>\n",
              "    <tr>\n",
              "      <th>2</th>\n",
              "      <td>980000.0</td>\n",
              "      <td>5.0</td>\n",
              "      <td>230.0</td>\n",
              "      <td>30.0</td>\n",
              "      <td>Kombi</td>\n",
              "      <td>Uygun</td>\n",
              "      <td>3. Kat</td>\n",
              "      <td>2.0</td>\n",
              "      <td>Çankaya</td>\n",
              "      <td>925828.0</td>\n",
              "      <td>liSans</td>\n",
              "      <td>0.70</td>\n",
              "    </tr>\n",
              "    <tr>\n",
              "      <th>3</th>\n",
              "      <td>385000.0</td>\n",
              "      <td>4.0</td>\n",
              "      <td>120.0</td>\n",
              "      <td>22.0</td>\n",
              "      <td>Kombi</td>\n",
              "      <td>Uygun</td>\n",
              "      <td>2. Kat</td>\n",
              "      <td>1.0</td>\n",
              "      <td>Keçiören</td>\n",
              "      <td>938565.0</td>\n",
              "      <td>Lise</td>\n",
              "      <td>1.43</td>\n",
              "    </tr>\n",
              "    <tr>\n",
              "      <th>4</th>\n",
              "      <td>700000.0</td>\n",
              "      <td>5.0</td>\n",
              "      <td>150.0</td>\n",
              "      <td>0.0</td>\n",
              "      <td>Kombi</td>\n",
              "      <td>Uygun</td>\n",
              "      <td>Ara Kat</td>\n",
              "      <td>2.0</td>\n",
              "      <td>Çankaya</td>\n",
              "      <td>925828.0</td>\n",
              "      <td>Lisans</td>\n",
              "      <td>0.70</td>\n",
              "    </tr>\n",
              "  </tbody>\n",
              "</table>\n",
              "</div>\n",
              "      <button class=\"colab-df-convert\" onclick=\"convertToInteractive('df-90bc5e42-60b0-4921-ae8b-2a48614db9fc')\"\n",
              "              title=\"Convert this dataframe to an interactive table.\"\n",
              "              style=\"display:none;\">\n",
              "        \n",
              "  <svg xmlns=\"http://www.w3.org/2000/svg\" height=\"24px\"viewBox=\"0 0 24 24\"\n",
              "       width=\"24px\">\n",
              "    <path d=\"M0 0h24v24H0V0z\" fill=\"none\"/>\n",
              "    <path d=\"M18.56 5.44l.94 2.06.94-2.06 2.06-.94-2.06-.94-.94-2.06-.94 2.06-2.06.94zm-11 1L8.5 8.5l.94-2.06 2.06-.94-2.06-.94L8.5 2.5l-.94 2.06-2.06.94zm10 10l.94 2.06.94-2.06 2.06-.94-2.06-.94-.94-2.06-.94 2.06-2.06.94z\"/><path d=\"M17.41 7.96l-1.37-1.37c-.4-.4-.92-.59-1.43-.59-.52 0-1.04.2-1.43.59L10.3 9.45l-7.72 7.72c-.78.78-.78 2.05 0 2.83L4 21.41c.39.39.9.59 1.41.59.51 0 1.02-.2 1.41-.59l7.78-7.78 2.81-2.81c.8-.78.8-2.07 0-2.86zM5.41 20L4 18.59l7.72-7.72 1.47 1.35L5.41 20z\"/>\n",
              "  </svg>\n",
              "      </button>\n",
              "      \n",
              "  <style>\n",
              "    .colab-df-container {\n",
              "      display:flex;\n",
              "      flex-wrap:wrap;\n",
              "      gap: 12px;\n",
              "    }\n",
              "\n",
              "    .colab-df-convert {\n",
              "      background-color: #E8F0FE;\n",
              "      border: none;\n",
              "      border-radius: 50%;\n",
              "      cursor: pointer;\n",
              "      display: none;\n",
              "      fill: #1967D2;\n",
              "      height: 32px;\n",
              "      padding: 0 0 0 0;\n",
              "      width: 32px;\n",
              "    }\n",
              "\n",
              "    .colab-df-convert:hover {\n",
              "      background-color: #E2EBFA;\n",
              "      box-shadow: 0px 1px 2px rgba(60, 64, 67, 0.3), 0px 1px 3px 1px rgba(60, 64, 67, 0.15);\n",
              "      fill: #174EA6;\n",
              "    }\n",
              "\n",
              "    [theme=dark] .colab-df-convert {\n",
              "      background-color: #3B4455;\n",
              "      fill: #D2E3FC;\n",
              "    }\n",
              "\n",
              "    [theme=dark] .colab-df-convert:hover {\n",
              "      background-color: #434B5C;\n",
              "      box-shadow: 0px 1px 3px 1px rgba(0, 0, 0, 0.15);\n",
              "      filter: drop-shadow(0px 1px 2px rgba(0, 0, 0, 0.3));\n",
              "      fill: #FFFFFF;\n",
              "    }\n",
              "  </style>\n",
              "\n",
              "      <script>\n",
              "        const buttonEl =\n",
              "          document.querySelector('#df-90bc5e42-60b0-4921-ae8b-2a48614db9fc button.colab-df-convert');\n",
              "        buttonEl.style.display =\n",
              "          google.colab.kernel.accessAllowed ? 'block' : 'none';\n",
              "\n",
              "        async function convertToInteractive(key) {\n",
              "          const element = document.querySelector('#df-90bc5e42-60b0-4921-ae8b-2a48614db9fc');\n",
              "          const dataTable =\n",
              "            await google.colab.kernel.invokeFunction('convertToInteractive',\n",
              "                                                     [key], {});\n",
              "          if (!dataTable) return;\n",
              "\n",
              "          const docLinkHtml = 'Like what you see? Visit the ' +\n",
              "            '<a target=\"_blank\" href=https://colab.research.google.com/notebooks/data_table.ipynb>data table notebook</a>'\n",
              "            + ' to learn more about interactive tables.';\n",
              "          element.innerHTML = '';\n",
              "          dataTable['output_type'] = 'display_data';\n",
              "          await google.colab.output.renderOutput(dataTable, element);\n",
              "          const docLink = document.createElement('div');\n",
              "          docLink.innerHTML = docLinkHtml;\n",
              "          element.appendChild(docLink);\n",
              "        }\n",
              "      </script>\n",
              "    </div>\n",
              "  </div>\n",
              "  "
            ],
            "text/plain": [
              "      fiyat  oda_salon_sayisi  net_m2  bina_yasi        isinma_tipi  \\\n",
              "0  275000.0               4.0   120.0       12.0              Kombi   \n",
              "1  700000.0               3.0    88.0        0.0  Merkezi(PayÖlçer)   \n",
              "2  980000.0               5.0   230.0       30.0              Kombi   \n",
              "3  385000.0               4.0   120.0       22.0              Kombi   \n",
              "4  700000.0               5.0   150.0        0.0              Kombi   \n",
              "\n",
              "  krediye_uygunluk bulundugu_kat  banyo_sayisi      ilce     nufus  egitim  \\\n",
              "0            Uygun         Kot 1           1.0   Çankaya  925828.0  Lisans   \n",
              "1            Uygun        1. Kat           1.0   Çankaya  925828.0  Lisans   \n",
              "2            Uygun        3. Kat           2.0   Çankaya  925828.0  liSans   \n",
              "3            Uygun        2. Kat           1.0  Keçiören  938565.0    Lise   \n",
              "4            Uygun       Ara Kat           2.0   Çankaya  925828.0  Lisans   \n",
              "\n",
              "   okuma_yazma_bilmeyen  \n",
              "0                  0.70  \n",
              "1                  0.70  \n",
              "2                  0.70  \n",
              "3                  1.43  \n",
              "4                  0.70  "
            ]
          },
          "execution_count": 3,
          "metadata": {},
          "output_type": "execute_result"
        }
      ],
      "source": [
        "# Read data\n",
        "df = pd.read_csv(\"/content/drive/MyDrive/ColabDatastore/METUSTAT/data.set.csv\", sep=\";\", encoding = 'unicode_escape', decimal=\",\")\n",
        "\n",
        "# Replace Turkish characters in column names\n",
        "df = df.rename(columns={'eðitim':'egitim', 'okuma_yazma_bilmeyen,,': 'okuma_yazma_bilmeyen', 'nüfus':'nufus'})\n",
        "\n",
        "# Droping id and Sutun1 as these have the same values with our index\n",
        "df.drop([\"Sütun1\", \"id\"], axis=1, inplace=True)\n",
        "\n",
        "# Convert column to float if dtype is object (string)\n",
        "if df.okuma_yazma_bilmeyen.dtype == 'O':\n",
        "  df[\"okuma_yazma_bilmeyen\"] = pd.to_numeric(df[\"okuma_yazma_bilmeyen\"].str[:-1].str.replace(',','.'), downcast='float', errors='coerce')\n",
        "\n",
        "df.head()"
      ]
    },
    {
      "cell_type": "code",
      "execution_count": 4,
      "metadata": {
        "colab": {
          "base_uri": "https://localhost:8080/"
        },
        "id": "iGj_tm8m0yeN",
        "outputId": "aecd217e-8887-4ff9-8385-bb13f7744395"
      },
      "outputs": [
        {
          "name": "stdout",
          "output_type": "stream",
          "text": [
            "Variable: fiyat, Min: 325.0, Max: 8850000.0, Mean: 609542.0536562203, Median: 460000.0\n",
            "Variable: oda_salon_sayisi, Min: 1.0, Max: 153.0, Mean: 4.327794920484216, Median: 4.0\n",
            "Variable: net_m2, Min: -98.0, Max: 600.0, Mean: 130.33990030856873, Median: 120.0\n",
            "Variable: bina_yasi, Min: 0.0, Max: 55.0, Mean: 16.164373814041745, Median: 16.0\n",
            "Variable: banyo_sayisi, Min: 1.0, Max: 21.0, Mean: 1.4689131466540104, Median: 1.0\n",
            "Variable: nufus, Min: 549108.0, Max: 938565.0, Mean: 873334.921689606, Median: 925828.0\n",
            "Variable: okuma_yazma_bilmeyen, Min: 0.0, Max: 1.9, Mean: 1.1226179748635985, Median: 1.43\n"
          ]
        }
      ],
      "source": [
        "#Print min, max, mean and median for all numeric values to look for outliers\n",
        "numeric_cols = ['fiyat', 'oda_salon_sayisi', 'net_m2', 'bina_yasi',\n",
        "                'banyo_sayisi', 'nufus', 'okuma_yazma_bilmeyen']\n",
        "\n",
        "for var in numeric_cols:\n",
        "  print(f\"Variable: {var}, Min: {df[var].min()}, Max: {df[var].max()}, Mean: {df[var].mean()}, Median: {df[var].median()}\")"
      ]
    },
    {
      "cell_type": "code",
      "execution_count": 5,
      "metadata": {
        "colab": {
          "base_uri": "https://localhost:8080/",
          "height": 487
        },
        "id": "g0AecAcyHlnI",
        "outputId": "8cfd3e68-2d0a-4002-bfe7-2c8556a7e7cf"
      },
      "outputs": [
        {
          "data": {
            "text/html": [
              "\n",
              "  <div id=\"df-798e7d0d-7628-4209-be5e-a068ff6550bc\">\n",
              "    <div class=\"colab-df-container\">\n",
              "      <div>\n",
              "<style scoped>\n",
              "    .dataframe tbody tr th:only-of-type {\n",
              "        vertical-align: middle;\n",
              "    }\n",
              "\n",
              "    .dataframe tbody tr th {\n",
              "        vertical-align: top;\n",
              "    }\n",
              "\n",
              "    .dataframe thead th {\n",
              "        text-align: right;\n",
              "    }\n",
              "</style>\n",
              "<table border=\"1\" class=\"dataframe\">\n",
              "  <thead>\n",
              "    <tr style=\"text-align: right;\">\n",
              "      <th></th>\n",
              "      <th>fiyat</th>\n",
              "      <th>oda_salon_sayisi</th>\n",
              "      <th>net_m2</th>\n",
              "      <th>bina_yasi</th>\n",
              "      <th>isinma_tipi</th>\n",
              "      <th>krediye_uygunluk</th>\n",
              "      <th>bulundugu_kat</th>\n",
              "      <th>banyo_sayisi</th>\n",
              "      <th>ilce</th>\n",
              "      <th>nufus</th>\n",
              "      <th>egitim</th>\n",
              "      <th>okuma_yazma_bilmeyen</th>\n",
              "    </tr>\n",
              "  </thead>\n",
              "  <tbody>\n",
              "    <tr>\n",
              "      <th>15</th>\n",
              "      <td>268000.0</td>\n",
              "      <td>3.0</td>\n",
              "      <td>110.0</td>\n",
              "      <td>25.0</td>\n",
              "      <td>Kombi</td>\n",
              "      <td>Uygun</td>\n",
              "      <td>Kot 1</td>\n",
              "      <td>1.0</td>\n",
              "      <td>Çankaya</td>\n",
              "      <td>NaN</td>\n",
              "      <td>Lisans</td>\n",
              "      <td>0.70</td>\n",
              "    </tr>\n",
              "    <tr>\n",
              "      <th>69</th>\n",
              "      <td>285000.0</td>\n",
              "      <td>NaN</td>\n",
              "      <td>110.0</td>\n",
              "      <td>28.0</td>\n",
              "      <td>Kombi</td>\n",
              "      <td>Uygun</td>\n",
              "      <td>2. Kat</td>\n",
              "      <td>1.0</td>\n",
              "      <td>Keçiören</td>\n",
              "      <td>938565.0</td>\n",
              "      <td>Lise</td>\n",
              "      <td>1.43</td>\n",
              "    </tr>\n",
              "    <tr>\n",
              "      <th>123</th>\n",
              "      <td>539000.0</td>\n",
              "      <td>4.0</td>\n",
              "      <td>125.0</td>\n",
              "      <td>22.0</td>\n",
              "      <td>NaN</td>\n",
              "      <td>Uygun</td>\n",
              "      <td>3. Kat</td>\n",
              "      <td>1.0</td>\n",
              "      <td>Çankaya</td>\n",
              "      <td>925828.0</td>\n",
              "      <td>Lisans</td>\n",
              "      <td>0.70</td>\n",
              "    </tr>\n",
              "    <tr>\n",
              "      <th>134</th>\n",
              "      <td>425000.0</td>\n",
              "      <td>3.0</td>\n",
              "      <td>115.0</td>\n",
              "      <td>22.0</td>\n",
              "      <td>Kombi</td>\n",
              "      <td>Uygun</td>\n",
              "      <td>3. Kat</td>\n",
              "      <td>1.0</td>\n",
              "      <td>Keçiören</td>\n",
              "      <td>NaN</td>\n",
              "      <td>Lise</td>\n",
              "      <td>1.43</td>\n",
              "    </tr>\n",
              "    <tr>\n",
              "      <th>263</th>\n",
              "      <td>735000.0</td>\n",
              "      <td>5.0</td>\n",
              "      <td>160.0</td>\n",
              "      <td>12.0</td>\n",
              "      <td>Kombi</td>\n",
              "      <td>Uygun</td>\n",
              "      <td>1. Kat</td>\n",
              "      <td>2.0</td>\n",
              "      <td>Keçiören</td>\n",
              "      <td>938565.0</td>\n",
              "      <td>Lise</td>\n",
              "      <td>NaN</td>\n",
              "    </tr>\n",
              "    <tr>\n",
              "      <th>...</th>\n",
              "      <td>...</td>\n",
              "      <td>...</td>\n",
              "      <td>...</td>\n",
              "      <td>...</td>\n",
              "      <td>...</td>\n",
              "      <td>...</td>\n",
              "      <td>...</td>\n",
              "      <td>...</td>\n",
              "      <td>...</td>\n",
              "      <td>...</td>\n",
              "      <td>...</td>\n",
              "      <td>...</td>\n",
              "    </tr>\n",
              "    <tr>\n",
              "      <th>4144</th>\n",
              "      <td>595000.0</td>\n",
              "      <td>4.0</td>\n",
              "      <td>120.0</td>\n",
              "      <td>20.0</td>\n",
              "      <td>Kombi</td>\n",
              "      <td>Uygun</td>\n",
              "      <td>2. Kat</td>\n",
              "      <td>2.0</td>\n",
              "      <td>Çankaya</td>\n",
              "      <td>925828.0</td>\n",
              "      <td>NaN</td>\n",
              "      <td>0.70</td>\n",
              "    </tr>\n",
              "    <tr>\n",
              "      <th>4150</th>\n",
              "      <td>670000.0</td>\n",
              "      <td>5.0</td>\n",
              "      <td>185.0</td>\n",
              "      <td>2.0</td>\n",
              "      <td>Merkezi(PayÖlçer)</td>\n",
              "      <td>Uygun</td>\n",
              "      <td>NaN</td>\n",
              "      <td>2.0</td>\n",
              "      <td>Çankaya</td>\n",
              "      <td>925828.0</td>\n",
              "      <td>Lisans</td>\n",
              "      <td>0.70</td>\n",
              "    </tr>\n",
              "    <tr>\n",
              "      <th>4204</th>\n",
              "      <td>NaN</td>\n",
              "      <td>4.0</td>\n",
              "      <td>115.0</td>\n",
              "      <td>7.0</td>\n",
              "      <td>Kombi</td>\n",
              "      <td>Uygun</td>\n",
              "      <td>4. Kat</td>\n",
              "      <td>1.0</td>\n",
              "      <td>Sincan</td>\n",
              "      <td>549108.0</td>\n",
              "      <td>Lise</td>\n",
              "      <td>1.44</td>\n",
              "    </tr>\n",
              "    <tr>\n",
              "      <th>4214</th>\n",
              "      <td>595000.0</td>\n",
              "      <td>4.0</td>\n",
              "      <td>100.0</td>\n",
              "      <td>50.0</td>\n",
              "      <td>Kombi</td>\n",
              "      <td>Uygun</td>\n",
              "      <td>Teras Katý</td>\n",
              "      <td>NaN</td>\n",
              "      <td>Çankaya</td>\n",
              "      <td>925828.0</td>\n",
              "      <td>Lisans</td>\n",
              "      <td>0.70</td>\n",
              "    </tr>\n",
              "    <tr>\n",
              "      <th>4218</th>\n",
              "      <td>NaN</td>\n",
              "      <td>4.0</td>\n",
              "      <td>95.0</td>\n",
              "      <td>16.0</td>\n",
              "      <td>Kombi</td>\n",
              "      <td>Uygun</td>\n",
              "      <td>Giriþ Katý</td>\n",
              "      <td>1.0</td>\n",
              "      <td>Keçiören</td>\n",
              "      <td>938565.0</td>\n",
              "      <td>Lise</td>\n",
              "      <td>1.43</td>\n",
              "    </tr>\n",
              "  </tbody>\n",
              "</table>\n",
              "<p>78 rows × 12 columns</p>\n",
              "</div>\n",
              "      <button class=\"colab-df-convert\" onclick=\"convertToInteractive('df-798e7d0d-7628-4209-be5e-a068ff6550bc')\"\n",
              "              title=\"Convert this dataframe to an interactive table.\"\n",
              "              style=\"display:none;\">\n",
              "        \n",
              "  <svg xmlns=\"http://www.w3.org/2000/svg\" height=\"24px\"viewBox=\"0 0 24 24\"\n",
              "       width=\"24px\">\n",
              "    <path d=\"M0 0h24v24H0V0z\" fill=\"none\"/>\n",
              "    <path d=\"M18.56 5.44l.94 2.06.94-2.06 2.06-.94-2.06-.94-.94-2.06-.94 2.06-2.06.94zm-11 1L8.5 8.5l.94-2.06 2.06-.94-2.06-.94L8.5 2.5l-.94 2.06-2.06.94zm10 10l.94 2.06.94-2.06 2.06-.94-2.06-.94-.94-2.06-.94 2.06-2.06.94z\"/><path d=\"M17.41 7.96l-1.37-1.37c-.4-.4-.92-.59-1.43-.59-.52 0-1.04.2-1.43.59L10.3 9.45l-7.72 7.72c-.78.78-.78 2.05 0 2.83L4 21.41c.39.39.9.59 1.41.59.51 0 1.02-.2 1.41-.59l7.78-7.78 2.81-2.81c.8-.78.8-2.07 0-2.86zM5.41 20L4 18.59l7.72-7.72 1.47 1.35L5.41 20z\"/>\n",
              "  </svg>\n",
              "      </button>\n",
              "      \n",
              "  <style>\n",
              "    .colab-df-container {\n",
              "      display:flex;\n",
              "      flex-wrap:wrap;\n",
              "      gap: 12px;\n",
              "    }\n",
              "\n",
              "    .colab-df-convert {\n",
              "      background-color: #E8F0FE;\n",
              "      border: none;\n",
              "      border-radius: 50%;\n",
              "      cursor: pointer;\n",
              "      display: none;\n",
              "      fill: #1967D2;\n",
              "      height: 32px;\n",
              "      padding: 0 0 0 0;\n",
              "      width: 32px;\n",
              "    }\n",
              "\n",
              "    .colab-df-convert:hover {\n",
              "      background-color: #E2EBFA;\n",
              "      box-shadow: 0px 1px 2px rgba(60, 64, 67, 0.3), 0px 1px 3px 1px rgba(60, 64, 67, 0.15);\n",
              "      fill: #174EA6;\n",
              "    }\n",
              "\n",
              "    [theme=dark] .colab-df-convert {\n",
              "      background-color: #3B4455;\n",
              "      fill: #D2E3FC;\n",
              "    }\n",
              "\n",
              "    [theme=dark] .colab-df-convert:hover {\n",
              "      background-color: #434B5C;\n",
              "      box-shadow: 0px 1px 3px 1px rgba(0, 0, 0, 0.15);\n",
              "      filter: drop-shadow(0px 1px 2px rgba(0, 0, 0, 0.3));\n",
              "      fill: #FFFFFF;\n",
              "    }\n",
              "  </style>\n",
              "\n",
              "      <script>\n",
              "        const buttonEl =\n",
              "          document.querySelector('#df-798e7d0d-7628-4209-be5e-a068ff6550bc button.colab-df-convert');\n",
              "        buttonEl.style.display =\n",
              "          google.colab.kernel.accessAllowed ? 'block' : 'none';\n",
              "\n",
              "        async function convertToInteractive(key) {\n",
              "          const element = document.querySelector('#df-798e7d0d-7628-4209-be5e-a068ff6550bc');\n",
              "          const dataTable =\n",
              "            await google.colab.kernel.invokeFunction('convertToInteractive',\n",
              "                                                     [key], {});\n",
              "          if (!dataTable) return;\n",
              "\n",
              "          const docLinkHtml = 'Like what you see? Visit the ' +\n",
              "            '<a target=\"_blank\" href=https://colab.research.google.com/notebooks/data_table.ipynb>data table notebook</a>'\n",
              "            + ' to learn more about interactive tables.';\n",
              "          element.innerHTML = '';\n",
              "          dataTable['output_type'] = 'display_data';\n",
              "          await google.colab.output.renderOutput(dataTable, element);\n",
              "          const docLink = document.createElement('div');\n",
              "          docLink.innerHTML = docLinkHtml;\n",
              "          element.appendChild(docLink);\n",
              "        }\n",
              "      </script>\n",
              "    </div>\n",
              "  </div>\n",
              "  "
            ],
            "text/plain": [
              "         fiyat  oda_salon_sayisi  net_m2  bina_yasi        isinma_tipi  \\\n",
              "15    268000.0               3.0   110.0       25.0              Kombi   \n",
              "69    285000.0               NaN   110.0       28.0              Kombi   \n",
              "123   539000.0               4.0   125.0       22.0                NaN   \n",
              "134   425000.0               3.0   115.0       22.0              Kombi   \n",
              "263   735000.0               5.0   160.0       12.0              Kombi   \n",
              "...        ...               ...     ...        ...                ...   \n",
              "4144  595000.0               4.0   120.0       20.0              Kombi   \n",
              "4150  670000.0               5.0   185.0        2.0  Merkezi(PayÖlçer)   \n",
              "4204       NaN               4.0   115.0        7.0              Kombi   \n",
              "4214  595000.0               4.0   100.0       50.0              Kombi   \n",
              "4218       NaN               4.0    95.0       16.0              Kombi   \n",
              "\n",
              "     krediye_uygunluk bulundugu_kat  banyo_sayisi      ilce     nufus  egitim  \\\n",
              "15              Uygun         Kot 1           1.0   Çankaya       NaN  Lisans   \n",
              "69              Uygun        2. Kat           1.0  Keçiören  938565.0    Lise   \n",
              "123             Uygun        3. Kat           1.0   Çankaya  925828.0  Lisans   \n",
              "134             Uygun        3. Kat           1.0  Keçiören       NaN    Lise   \n",
              "263             Uygun        1. Kat           2.0  Keçiören  938565.0    Lise   \n",
              "...               ...           ...           ...       ...       ...     ...   \n",
              "4144            Uygun        2. Kat           2.0   Çankaya  925828.0     NaN   \n",
              "4150            Uygun           NaN           2.0   Çankaya  925828.0  Lisans   \n",
              "4204            Uygun        4. Kat           1.0    Sincan  549108.0    Lise   \n",
              "4214            Uygun    Teras Katý           NaN   Çankaya  925828.0  Lisans   \n",
              "4218            Uygun    Giriþ Katý           1.0  Keçiören  938565.0    Lise   \n",
              "\n",
              "      okuma_yazma_bilmeyen  \n",
              "15                    0.70  \n",
              "69                    1.43  \n",
              "123                   0.70  \n",
              "134                   1.43  \n",
              "263                    NaN  \n",
              "...                    ...  \n",
              "4144                  0.70  \n",
              "4150                  0.70  \n",
              "4204                  1.44  \n",
              "4214                  0.70  \n",
              "4218                  1.43  \n",
              "\n",
              "[78 rows x 12 columns]"
            ]
          },
          "execution_count": 5,
          "metadata": {},
          "output_type": "execute_result"
        }
      ],
      "source": [
        "# Check rows with null values\n",
        "df[df.isnull().any(axis=1)]"
      ]
    },
    {
      "cell_type": "code",
      "execution_count": 6,
      "metadata": {
        "colab": {
          "base_uri": "https://localhost:8080/",
          "height": 265
        },
        "id": "77sTDjk96qVF",
        "outputId": "0b2bdfc0-c04a-486e-fafd-a95d47d88a5b"
      },
      "outputs": [
        {
          "data": {
            "image/png": "[encoded data removed]",
            "text/plain": [
              "<Figure size 432x288 with 1 Axes>"
            ]
          },
          "metadata": {
            "needs_background": "light"
          },
          "output_type": "display_data"
        }
      ],
      "source": [
        "# m2 should not be less than ~40\n",
        "df[df.net_m2 < 40][\"net_m2\"].plot(kind=\"hist\")\n",
        "plt.show()"
      ]
    },
    {
      "cell_type": "code",
      "execution_count": 7,
      "metadata": {
        "colab": {
          "base_uri": "https://localhost:8080/",
          "height": 265
        },
        "id": "3P6gP_kRCiMH",
        "outputId": "5e2c735d-806c-4a44-e74b-8c4d4bece466"
      },
      "outputs": [
        {
          "data": {
            "image/png": "[encoded data removed]",
            "text/plain": [
              "<Figure size 432x288 with 1 Axes>"
            ]
          },
          "metadata": {
            "needs_background": "light"
          },
          "output_type": "display_data"
        }
      ],
      "source": [
        "# We can see here that we have some outlier data, no house should have 140 rooms\n",
        "df[df[\"oda_salon_sayisi\"] > 7][\"oda_salon_sayisi\"].plot(kind=\"hist\")\n",
        "plt.show()"
      ]
    },
    {
      "cell_type": "code",
      "execution_count": 8,
      "metadata": {
        "colab": {
          "base_uri": "https://localhost:8080/",
          "height": 265
        },
        "id": "SlSL-puFCiBX",
        "outputId": "265255f9-39ee-44a2-9bd4-2199a336dae8"
      },
      "outputs": [
        {
          "data": {
            "image/png": "[encoded data removed]",
            "text/plain": [
              "<Figure size 432x288 with 1 Axes>"
            ]
          },
          "metadata": {
            "needs_background": "light"
          },
          "output_type": "display_data"
        }
      ],
      "source": [
        "# Building age does not have significant wrong data entries\n",
        "df[\"bina_yasi\"].plot(kind=\"hist\")\n",
        "plt.show()"
      ]
    },
    {
      "cell_type": "code",
      "execution_count": 9,
      "metadata": {
        "colab": {
          "base_uri": "https://localhost:8080/",
          "height": 526
        },
        "id": "Vc5Fbsd8EHD-",
        "outputId": "32705ec0-c23f-4e26-b24e-090d045361ef"
      },
      "outputs": [
        {
          "data": {
            "image/png": "[encoded data removed]",
            "text/plain": [
              "<Figure size 432x288 with 1 Axes>"
            ]
          },
          "metadata": {
            "needs_background": "light"
          },
          "output_type": "display_data"
        },
        {
          "data": {
            "image/png": "[encoded data removed]",
            "text/plain": [
              "<Figure size 432x288 with 1 Axes>"
            ]
          },
          "metadata": {
            "needs_background": "light"
          },
          "output_type": "display_data"
        }
      ],
      "source": [
        "# We have some outliers in price but they do not seem to be wrong data points\n",
        "# High prices are likely to be luxury houses and mansions \n",
        "# and low prices seem like rentals\n",
        "df[(df[\"fiyat\"] > 5_000_000)][\"fiyat\"].plot(kind=\"hist\")\n",
        "plt.show()\n",
        "df[(df[\"fiyat\"] < 10_000)][\"fiyat\"].plot(kind=\"hist\")\n",
        "plt.show()"
      ]
    },
    {
      "cell_type": "markdown",
      "metadata": {
        "id": "saBBowNWM0HI"
      },
      "source": [
        "## Preprocessing & Cleaning"
      ]
    },
    {
      "cell_type": "code",
      "execution_count": 10,
      "metadata": {
        "id": "nIb6WuIs4uyP"
      },
      "outputs": [],
      "source": [
        "# Fix typos in education\n",
        "df['egitim'] = df['egitim'].str.replace('liS3','Lise')\n",
        "df['egitim'] = df['egitim'].str.replace('liSans','Lisans')\n",
        "\n",
        "# Fix typos in district\n",
        "df['ilce'] = df['ilce'].str.replace('cankaya', 'Çankaya')\n",
        "\n",
        "# Fill nan values according to district; \n",
        "# population, education and literacy all depend on district\n",
        "for i, row in df.iterrows():\n",
        "  if pd.isnull(row[\"ilce\"]):\n",
        "    df.loc[i, \"ilce\"] = df[df.nufus == row.nufus][\"ilce\"].value_counts().idxmax()\n",
        "  if pd.isnull(row[\"nufus\"]):\n",
        "    df.loc[i, \"nufus\"] = df[df.ilce == row.ilce][\"nufus\"].value_counts().idxmax()\n",
        "  if pd.isnull(row[\"egitim\"]):\n",
        "    df.loc[i, \"egitim\"] = df[df.ilce == row.ilce][\"egitim\"].value_counts().idxmax()\n",
        "  if pd.isnull(row[\"okuma_yazma_bilmeyen\"]):\n",
        "    df.loc[i, \"okuma_yazma_bilmeyen\"] = df[df.ilce == row.ilce][\"okuma_yazma_bilmeyen\"].value_counts().idxmax()\n"
      ]
    },
    {
      "cell_type": "code",
      "execution_count": 11,
      "metadata": {
        "id": "ujTdbKgepFGE"
      },
      "outputs": [],
      "source": [
        "# At this stage we make a copy of the original dataframe for exploration later on\n",
        "df_copy = df.copy()"
      ]
    },
    {
      "cell_type": "code",
      "execution_count": 12,
      "metadata": {
        "id": "rJpPAbdtpMns"
      },
      "outputs": [],
      "source": [
        "# Encoding education column as binary\n",
        "df.loc[df[\"egitim\"] == \"Lise\" , \"egitim\"] = 0\n",
        "df.loc[df[\"egitim\"] == \"Lisans\" , \"egitim\"] = 1\n",
        "\n",
        "# Encoding heating type as integer\n",
        "# We try to give the category with higher median prices a larger number\n",
        "df.loc[df[\"isinma_tipi\"] == \"Kombi\" , \"isinma_tipi\"] = 0\n",
        "df.loc[df[\"isinma_tipi\"] == \"Merkezi(PayÖlçer)\" , \"isinma_tipi\"] = 2\n",
        "df.loc[df[\"isinma_tipi\"] == \"Merkezi\" , \"isinma_tipi\"] = 1\n",
        "df.loc[df[\"isinma_tipi\"] == \"KatKaloriferi\" , \"isinma_tipi\"] = 1\n",
        "df.loc[df[\"isinma_tipi\"] == \"Klima\" , \"isinma_tipi\"] = 1\n",
        "# Filling na values with 0 as they may be buildings with no heating\n",
        "df.fillna({'isinma_tipi':0},inplace=True)\n",
        "\n",
        "# Encoding and grouping building floor data\n",
        "# Again we tried to give integer values according to these categories efffects on price\n",
        "df.loc[df[\"bulundugu_kat\"] == \"Kot 1\" , \"bulundugu_kat\"] = 0\n",
        "df.loc[df[\"bulundugu_kat\"] == \"Yüksek Giriþ\" , \"bulundugu_kat\"] = 0\n",
        "df.loc[df[\"bulundugu_kat\"] == \"Kot 3\" , \"bulundugu_kat\"] = 0\n",
        "df.loc[df[\"bulundugu_kat\"] == \"Kot 2\" , \"bulundugu_kat\"] = 0\n",
        "df.loc[df[\"bulundugu_kat\"] == \"Bodrum\" , \"bulundugu_kat\"] = 0\n",
        "df.loc[df[\"bulundugu_kat\"] == \"1. Kat\" , \"bulundugu_kat\"] = 1\n",
        "df.loc[df[\"bulundugu_kat\"] == \"Bahçe Katý\" , \"bulundugu_kat\"] = 1\n",
        "df.loc[df[\"bulundugu_kat\"] == \"Zemin\" , \"bulundugu_kat\"] = 1\n",
        "df.loc[df[\"bulundugu_kat\"] == \"Giriþ Katý\" , \"bulundugu_kat\"] = 1\n",
        "df.loc[df[\"bulundugu_kat\"] == \"Çatý Katý\" , \"bulundugu_kat\"] = 1\n",
        "df.loc[df[\"bulundugu_kat\"] == \"2. Kat\" , \"bulundugu_kat\"] = 2\n",
        "df.loc[df[\"bulundugu_kat\"] == \"3. Kat\" , \"bulundugu_kat\"] = 2\n",
        "df.loc[df[\"bulundugu_kat\"] == \"4. Kat\" , \"bulundugu_kat\"] = 2\n",
        "df.loc[df[\"bulundugu_kat\"] == \"5. Kat\" , \"bulundugu_kat\"] = 2\n",
        "df.loc[df[\"bulundugu_kat\"] == \"Teras Katý\" , \"bulundugu_kat\"] = 2\n",
        "df.loc[df[\"bulundugu_kat\"] == \"En Üst Kat\" , \"bulundugu_kat\"] = 2\n",
        "df.loc[df[\"bulundugu_kat\"] == \"6. Kat\" , \"bulundugu_kat\"] = 3\n",
        "df.loc[df[\"bulundugu_kat\"] == \"7. Kat\" , \"bulundugu_kat\"] = 3\n",
        "df.loc[df[\"bulundugu_kat\"] == \"8. Kat\" , \"bulundugu_kat\"] = 3\n",
        "df.loc[df[\"bulundugu_kat\"] == \"9. Kat\" , \"bulundugu_kat\"] = 3\n",
        "df.loc[df[\"bulundugu_kat\"] == \"10. Kat\" , \"bulundugu_kat\"] = 3\n",
        "df.loc[df[\"bulundugu_kat\"] == \"Ara Kat\" , \"bulundugu_kat\"] = 3\n",
        "df.loc[df[\"bulundugu_kat\"] == \"11. Kat\" , \"bulundugu_kat\"] = 4\n",
        "df.loc[df[\"bulundugu_kat\"] == \"12. Kat\" , \"bulundugu_kat\"] = 4\n",
        "df.loc[df[\"bulundugu_kat\"] == \"13. Kat\" , \"bulundugu_kat\"] = 4\n",
        "df.loc[df[\"bulundugu_kat\"] == \"14. Kat\" , \"bulundugu_kat\"] = 4\n",
        "df.loc[df[\"bulundugu_kat\"] == \"15. Kat\" , \"bulundugu_kat\"] = 4\n",
        "df.loc[df[\"bulundugu_kat\"] == \"16. Kat\" , \"bulundugu_kat\"] = 4\n",
        "df.loc[df[\"bulundugu_kat\"] == \"17. Kat\" , \"bulundugu_kat\"] = 4\n",
        "df.loc[df[\"bulundugu_kat\"] == \"18. Kat\" , \"bulundugu_kat\"] = 4\n",
        "df.loc[df[\"bulundugu_kat\"] == \"19. Kat\" , \"bulundugu_kat\"] = 4\n",
        "df.loc[df[\"bulundugu_kat\"] == \"20. Kat\" , \"bulundugu_kat\"] = 4\n",
        "df.loc[df[\"bulundugu_kat\"] == \"21 ve üzeri\" , \"bulundugu_kat\"] = 4\n",
        "df.loc[df[\"bulundugu_kat\"] == \"Müstakil\" , \"bulundugu_kat\"] = 5\n",
        "df.loc[df[\"bulundugu_kat\"] == \"Villa Katý\" , \"bulundugu_kat\"] = 5\n",
        "\n",
        "# Filling na values with 1 as that is most likely value\n",
        "df.fillna({'bulundugu_kat':1}, inplace=True)\n",
        "\n",
        "\n",
        "# Grouping building age variables\n",
        "# New values roughly correlate with demand\n",
        "df.loc[df[\"bina_yasi\"] < 6 , \"bina_yasi\"] = 3\n",
        "df.loc[(df[\"bina_yasi\"] >= 6 ) & (df[\"bina_yasi\"] <= 15 ), \"bina_yasi\"] = 2\n",
        "df.loc[(df[\"bina_yasi\"] >= 16 ) & (df[\"bina_yasi\"] <= 30 ), \"bina_yasi\"] = 1\n",
        "df.loc[ df[\"bina_yasi\"] > 30, \"bina_yasi\"] = 0\n",
        "\n",
        "# Fillna with 1, the most likely value\n",
        "df.fillna({'bina_yasi':1},inplace=True)\n",
        "\n",
        "\n",
        "# Encoding and grouping districts\n",
        "# Çankaya-Keçiören and Sincan-Mamak data points seem very similar\n",
        "df.loc[(df[\"ilce\"] == \"Çankaya\") | (df[\"ilce\"] == \"Keçiören\") , \"ilce\"] = 1\n",
        "df.loc[(df[\"ilce\"] == \"Sincan\") | (df[\"ilce\"] == \"Mamak\") , \"ilce\"] = 0\n",
        "\n",
        "\n",
        "# Encoding credit as a binary variable\n",
        "df.loc[df[\"krediye_uygunluk\"] == \"Uygun\" , \"krediye_uygunluk\"] = 1\n",
        "df.loc[df[\"krediye_uygunluk\"] == \"Uygun deðil\" , \"krediye_uygunluk\"] = 0\n",
        "df.fillna({'krediye_uygunluk':0},inplace=True)\n",
        "\n",
        "\n",
        "# Drop duplicate rows\n",
        "df.drop_duplicates(inplace=True)"
      ]
    },
    {
      "cell_type": "code",
      "execution_count": 13,
      "metadata": {
        "id": "2JB_6XfNxrFo"
      },
      "outputs": [],
      "source": [
        "# Population and literacy data does not give us any new information\n",
        "# We can derive the same information from district and education columns\n",
        "df.drop(['nufus','okuma_yazma_bilmeyen'],axis=1,inplace=True)"
      ]
    },
    {
      "cell_type": "code",
      "execution_count": 14,
      "metadata": {
        "colab": {
          "base_uri": "https://localhost:8080/"
        },
        "id": "xqECo2EPx7qG",
        "outputId": "6eec2719-8a0d-49c1-dd50-5f3b1c8a3262"
      },
      "outputs": [
        {
          "name": "stdout",
          "output_type": "stream",
          "text": [
            "<class 'pandas.core.frame.DataFrame'>\n",
            "Int64Index: 3605 entries, 0 to 4220\n",
            "Data columns (total 10 columns):\n",
            " #   Column            Non-Null Count  Dtype  \n",
            "---  ------            --------------  -----  \n",
            " 0   fiyat             3595 non-null   float64\n",
            " 1   oda_salon_sayisi  3596 non-null   float64\n",
            " 2   net_m2            3596 non-null   float64\n",
            " 3   bina_yasi         3605 non-null   float64\n",
            " 4   isinma_tipi       3605 non-null   int64  \n",
            " 5   krediye_uygunluk  3605 non-null   int64  \n",
            " 6   bulundugu_kat     3605 non-null   int64  \n",
            " 7   banyo_sayisi      3597 non-null   float64\n",
            " 8   ilce              3605 non-null   object \n",
            " 9   egitim            3605 non-null   object \n",
            "dtypes: float64(5), int64(3), object(2)\n",
            "memory usage: 309.8+ KB\n"
          ]
        }
      ],
      "source": [
        "df.info()"
      ]
    },
    {
      "cell_type": "code",
      "execution_count": 15,
      "metadata": {
        "colab": {
          "base_uri": "https://localhost:8080/",
          "height": 364
        },
        "id": "KqYS7DWjyZPl",
        "outputId": "abd0edbc-9ab8-4346-b7d5-117eafdfda56"
      },
      "outputs": [
        {
          "data": {
            "text/html": [
              "\n",
              "  <div id=\"df-d22e71fd-68b4-4007-ba44-e00bbf6dfa63\">\n",
              "    <div class=\"colab-df-container\">\n",
              "      <div>\n",
              "<style scoped>\n",
              "    .dataframe tbody tr th:only-of-type {\n",
              "        vertical-align: middle;\n",
              "    }\n",
              "\n",
              "    .dataframe tbody tr th {\n",
              "        vertical-align: top;\n",
              "    }\n",
              "\n",
              "    .dataframe thead th {\n",
              "        text-align: right;\n",
              "    }\n",
              "</style>\n",
              "<table border=\"1\" class=\"dataframe\">\n",
              "  <thead>\n",
              "    <tr style=\"text-align: right;\">\n",
              "      <th></th>\n",
              "      <th>fiyat</th>\n",
              "      <th>oda_salon_sayisi</th>\n",
              "      <th>net_m2</th>\n",
              "      <th>bina_yasi</th>\n",
              "      <th>isinma_tipi</th>\n",
              "      <th>krediye_uygunluk</th>\n",
              "      <th>bulundugu_kat</th>\n",
              "      <th>banyo_sayisi</th>\n",
              "    </tr>\n",
              "  </thead>\n",
              "  <tbody>\n",
              "    <tr>\n",
              "      <th>count</th>\n",
              "      <td>3.595000e+03</td>\n",
              "      <td>3596.000000</td>\n",
              "      <td>3596.000000</td>\n",
              "      <td>3605.000000</td>\n",
              "      <td>3605.000000</td>\n",
              "      <td>3605.000000</td>\n",
              "      <td>3605.000000</td>\n",
              "      <td>3597.000000</td>\n",
              "    </tr>\n",
              "    <tr>\n",
              "      <th>mean</th>\n",
              "      <td>6.158114e+05</td>\n",
              "      <td>4.365962</td>\n",
              "      <td>130.493326</td>\n",
              "      <td>1.691540</td>\n",
              "      <td>0.393897</td>\n",
              "      <td>0.980305</td>\n",
              "      <td>1.520943</td>\n",
              "      <td>1.480122</td>\n",
              "    </tr>\n",
              "    <tr>\n",
              "      <th>std</th>\n",
              "      <td>5.585668e+05</td>\n",
              "      <td>4.289989</td>\n",
              "      <td>53.299847</td>\n",
              "      <td>0.994015</td>\n",
              "      <td>0.675533</td>\n",
              "      <td>0.138969</td>\n",
              "      <td>0.987669</td>\n",
              "      <td>0.976337</td>\n",
              "    </tr>\n",
              "    <tr>\n",
              "      <th>min</th>\n",
              "      <td>3.250000e+02</td>\n",
              "      <td>1.000000</td>\n",
              "      <td>-98.000000</td>\n",
              "      <td>0.000000</td>\n",
              "      <td>0.000000</td>\n",
              "      <td>0.000000</td>\n",
              "      <td>0.000000</td>\n",
              "      <td>1.000000</td>\n",
              "    </tr>\n",
              "    <tr>\n",
              "      <th>25%</th>\n",
              "      <td>3.250000e+05</td>\n",
              "      <td>4.000000</td>\n",
              "      <td>100.000000</td>\n",
              "      <td>1.000000</td>\n",
              "      <td>0.000000</td>\n",
              "      <td>1.000000</td>\n",
              "      <td>1.000000</td>\n",
              "      <td>1.000000</td>\n",
              "    </tr>\n",
              "    <tr>\n",
              "      <th>50%</th>\n",
              "      <td>4.600000e+05</td>\n",
              "      <td>4.000000</td>\n",
              "      <td>120.000000</td>\n",
              "      <td>2.000000</td>\n",
              "      <td>0.000000</td>\n",
              "      <td>1.000000</td>\n",
              "      <td>2.000000</td>\n",
              "      <td>1.000000</td>\n",
              "    </tr>\n",
              "    <tr>\n",
              "      <th>75%</th>\n",
              "      <td>7.000000e+05</td>\n",
              "      <td>4.000000</td>\n",
              "      <td>145.000000</td>\n",
              "      <td>3.000000</td>\n",
              "      <td>1.000000</td>\n",
              "      <td>1.000000</td>\n",
              "      <td>2.000000</td>\n",
              "      <td>2.000000</td>\n",
              "    </tr>\n",
              "    <tr>\n",
              "      <th>max</th>\n",
              "      <td>8.850000e+06</td>\n",
              "      <td>153.000000</td>\n",
              "      <td>600.000000</td>\n",
              "      <td>3.000000</td>\n",
              "      <td>2.000000</td>\n",
              "      <td>1.000000</td>\n",
              "      <td>5.000000</td>\n",
              "      <td>21.000000</td>\n",
              "    </tr>\n",
              "  </tbody>\n",
              "</table>\n",
              "</div>\n",
              "      <button class=\"colab-df-convert\" onclick=\"convertToInteractive('df-d22e71fd-68b4-4007-ba44-e00bbf6dfa63')\"\n",
              "              title=\"Convert this dataframe to an interactive table.\"\n",
              "              style=\"display:none;\">\n",
              "        \n",
              "  <svg xmlns=\"http://www.w3.org/2000/svg\" height=\"24px\"viewBox=\"0 0 24 24\"\n",
              "       width=\"24px\">\n",
              "    <path d=\"M0 0h24v24H0V0z\" fill=\"none\"/>\n",
              "    <path d=\"M18.56 5.44l.94 2.06.94-2.06 2.06-.94-2.06-.94-.94-2.06-.94 2.06-2.06.94zm-11 1L8.5 8.5l.94-2.06 2.06-.94-2.06-.94L8.5 2.5l-.94 2.06-2.06.94zm10 10l.94 2.06.94-2.06 2.06-.94-2.06-.94-.94-2.06-.94 2.06-2.06.94z\"/><path d=\"M17.41 7.96l-1.37-1.37c-.4-.4-.92-.59-1.43-.59-.52 0-1.04.2-1.43.59L10.3 9.45l-7.72 7.72c-.78.78-.78 2.05 0 2.83L4 21.41c.39.39.9.59 1.41.59.51 0 1.02-.2 1.41-.59l7.78-7.78 2.81-2.81c.8-.78.8-2.07 0-2.86zM5.41 20L4 18.59l7.72-7.72 1.47 1.35L5.41 20z\"/>\n",
              "  </svg>\n",
              "      </button>\n",
              "      \n",
              "  <style>\n",
              "    .colab-df-container {\n",
              "      display:flex;\n",
              "      flex-wrap:wrap;\n",
              "      gap: 12px;\n",
              "    }\n",
              "\n",
              "    .colab-df-convert {\n",
              "      background-color: #E8F0FE;\n",
              "      border: none;\n",
              "      border-radius: 50%;\n",
              "      cursor: pointer;\n",
              "      display: none;\n",
              "      fill: #1967D2;\n",
              "      height: 32px;\n",
              "      padding: 0 0 0 0;\n",
              "      width: 32px;\n",
              "    }\n",
              "\n",
              "    .colab-df-convert:hover {\n",
              "      background-color: #E2EBFA;\n",
              "      box-shadow: 0px 1px 2px rgba(60, 64, 67, 0.3), 0px 1px 3px 1px rgba(60, 64, 67, 0.15);\n",
              "      fill: #174EA6;\n",
              "    }\n",
              "\n",
              "    [theme=dark] .colab-df-convert {\n",
              "      background-color: #3B4455;\n",
              "      fill: #D2E3FC;\n",
              "    }\n",
              "\n",
              "    [theme=dark] .colab-df-convert:hover {\n",
              "      background-color: #434B5C;\n",
              "      box-shadow: 0px 1px 3px 1px rgba(0, 0, 0, 0.15);\n",
              "      filter: drop-shadow(0px 1px 2px rgba(0, 0, 0, 0.3));\n",
              "      fill: #FFFFFF;\n",
              "    }\n",
              "  </style>\n",
              "\n",
              "      <script>\n",
              "        const buttonEl =\n",
              "          document.querySelector('#df-d22e71fd-68b4-4007-ba44-e00bbf6dfa63 button.colab-df-convert');\n",
              "        buttonEl.style.display =\n",
              "          google.colab.kernel.accessAllowed ? 'block' : 'none';\n",
              "\n",
              "        async function convertToInteractive(key) {\n",
              "          const element = document.querySelector('#df-d22e71fd-68b4-4007-ba44-e00bbf6dfa63');\n",
              "          const dataTable =\n",
              "            await google.colab.kernel.invokeFunction('convertToInteractive',\n",
              "                                                     [key], {});\n",
              "          if (!dataTable) return;\n",
              "\n",
              "          const docLinkHtml = 'Like what you see? Visit the ' +\n",
              "            '<a target=\"_blank\" href=https://colab.research.google.com/notebooks/data_table.ipynb>data table notebook</a>'\n",
              "            + ' to learn more about interactive tables.';\n",
              "          element.innerHTML = '';\n",
              "          dataTable['output_type'] = 'display_data';\n",
              "          await google.colab.output.renderOutput(dataTable, element);\n",
              "          const docLink = document.createElement('div');\n",
              "          docLink.innerHTML = docLinkHtml;\n",
              "          element.appendChild(docLink);\n",
              "        }\n",
              "      </script>\n",
              "    </div>\n",
              "  </div>\n",
              "  "
            ],
            "text/plain": [
              "              fiyat  oda_salon_sayisi       net_m2    bina_yasi  isinma_tipi  \\\n",
              "count  3.595000e+03       3596.000000  3596.000000  3605.000000  3605.000000   \n",
              "mean   6.158114e+05          4.365962   130.493326     1.691540     0.393897   \n",
              "std    5.585668e+05          4.289989    53.299847     0.994015     0.675533   \n",
              "min    3.250000e+02          1.000000   -98.000000     0.000000     0.000000   \n",
              "25%    3.250000e+05          4.000000   100.000000     1.000000     0.000000   \n",
              "50%    4.600000e+05          4.000000   120.000000     2.000000     0.000000   \n",
              "75%    7.000000e+05          4.000000   145.000000     3.000000     1.000000   \n",
              "max    8.850000e+06        153.000000   600.000000     3.000000     2.000000   \n",
              "\n",
              "       krediye_uygunluk  bulundugu_kat  banyo_sayisi  \n",
              "count       3605.000000    3605.000000   3597.000000  \n",
              "mean           0.980305       1.520943      1.480122  \n",
              "std            0.138969       0.987669      0.976337  \n",
              "min            0.000000       0.000000      1.000000  \n",
              "25%            1.000000       1.000000      1.000000  \n",
              "50%            1.000000       2.000000      1.000000  \n",
              "75%            1.000000       2.000000      2.000000  \n",
              "max            1.000000       5.000000     21.000000  "
            ]
          },
          "execution_count": 15,
          "metadata": {},
          "output_type": "execute_result"
        }
      ],
      "source": [
        "df.describe()"
      ]
    },
    {
      "cell_type": "code",
      "execution_count": 16,
      "metadata": {
        "colab": {
          "base_uri": "https://localhost:8080/"
        },
        "id": "SDfLjA5JydQu",
        "outputId": "f812fc26-a485-494e-c11a-25653024dd29"
      },
      "outputs": [
        {
          "data": {
            "text/plain": [
              "fiyat               10\n",
              "oda_salon_sayisi     9\n",
              "net_m2               9\n",
              "bina_yasi            0\n",
              "isinma_tipi          0\n",
              "krediye_uygunluk     0\n",
              "bulundugu_kat        0\n",
              "banyo_sayisi         8\n",
              "ilce                 0\n",
              "egitim               0\n",
              "dtype: int64"
            ]
          },
          "execution_count": 16,
          "metadata": {},
          "output_type": "execute_result"
        }
      ],
      "source": [
        "df.isna().sum()"
      ]
    },
    {
      "cell_type": "code",
      "execution_count": 17,
      "metadata": {
        "id": "6FCFQHPe5ek0"
      },
      "outputs": [],
      "source": [
        "# For data points with nan m2 values, we fill it with median m2 value \n",
        "# among other houses with similar room numbers\n",
        "for i in df.loc[(df.net_m2.isna())].oda_salon_sayisi.unique():\n",
        "  df.loc[(df.oda_salon_sayisi == i) & (df.net_m2.isna()), 'net_m2'] = df[df.oda_salon_sayisi == 4]['net_m2'].median()   \n",
        "\n",
        "# Similarly, updating nan room numbers with median room number among similar m2\n",
        "for i in df.loc[(df.oda_salon_sayisi.isna())].net_m2.unique():\n",
        "  df.loc[(df.net_m2 == i) & (df.oda_salon_sayisi.isna()), 'oda_salon_sayisi'] = df[df.net_m2 == i]['oda_salon_sayisi'].median()\n"
      ]
    },
    {
      "cell_type": "code",
      "execution_count": 18,
      "metadata": {
        "colab": {
          "base_uri": "https://localhost:8080/",
          "height": 279
        },
        "id": "o3CzIp0Y9rfe",
        "outputId": "51ec9c6a-5273-49ad-e435-4dcbff3523c3"
      },
      "outputs": [
        {
          "data": {
            "image/png": "[encoded data removed]",
            "text/plain": [
              "<Figure size 432x288 with 1 Axes>"
            ]
          },
          "metadata": {
            "needs_background": "light"
          },
          "output_type": "display_data"
        }
      ],
      "source": [
        "# Correlation and outliers from m2 - price\n",
        "sns.boxplot(x=df['fiyat'],y=df['net_m2'])\n",
        "plt.show()"
      ]
    },
    {
      "cell_type": "code",
      "execution_count": 19,
      "metadata": {
        "colab": {
          "base_uri": "https://localhost:8080/",
          "height": 583
        },
        "id": "6wFLpavW-90E",
        "outputId": "1f6adcfd-6527-4420-b2d2-baf342d4d9c8"
      },
      "outputs": [
        {
          "data": {
            "image/png": "[encoded data removed]",
            "text/plain": [
              "<Figure size 720x1440 with 4 Axes>"
            ]
          },
          "metadata": {
            "needs_background": "light"
          },
          "output_type": "display_data"
        }
      ],
      "source": [
        "# Price, number of rooms and bathrooms, m2 are columns with significant outliers\n",
        "# We can graph these columns to take a closer look\n",
        "columns_num = ['fiyat', 'oda_salon_sayisi', 'net_m2', 'banyo_sayisi']\n",
        "plt.figure(figsize=(10,20))\n",
        "for i,col in enumerate(columns_num,1):\n",
        "  plt.subplot(len(columns_num),2,i)\n",
        "  sns.boxplot(x=df[col])\n",
        "  plt.ylabel(col)\n",
        "plt.show()"
      ]
    },
    {
      "cell_type": "code",
      "execution_count": 20,
      "metadata": {
        "colab": {
          "base_uri": "https://localhost:8080/"
        },
        "id": "XKBZRneW_LnN",
        "outputId": "0c058df4-48dc-449a-ac8a-90786f176754"
      },
      "outputs": [
        {
          "name": "stdout",
          "output_type": "stream",
          "text": [
            "outlier in oda salon sayisi :  [35.0, 39.0, 37.0, 45.0, 153.0, 41.0, 36.0, 153.0, 45.0]\n",
            "outlier in m2 :  [532.0, 532.0, 600.0]\n",
            "outlier in fiyat :  [5100000.0, 4750000.0, 8850000.0, 4670000.0, 7500000.0, 4750000.0, 8850000.0, 4670000.0, 5100000.0, 7500000.0]\n"
          ]
        }
      ],
      "source": [
        "# Here we view tho outlier data points using standard deviation and z score\n",
        "mean=df['oda_salon_sayisi'].mean()\n",
        "std=df['oda_salon_sayisi'].std()\n",
        "threshold = 7\n",
        "outlier = [] \n",
        "for i in df['oda_salon_sayisi']: \n",
        "    z = (i-mean)/std \n",
        "    if z > threshold: \n",
        "        outlier.append(i) \n",
        "print('outlier in oda salon sayisi : ', outlier) \n",
        "\n",
        "\n",
        "mean=df['net_m2'].mean()\n",
        "std=df['net_m2'].std()\n",
        "threshold = 7\n",
        "outlier = [] \n",
        "for i in df['net_m2']: \n",
        "    z = (i-mean)/std \n",
        "    if z > threshold: \n",
        "        outlier.append(i) \n",
        "print('outlier in m2 : ', outlier) \n",
        "\n",
        "mean=df['fiyat'].mean()\n",
        "std=df['fiyat'].std()\n",
        "threshold = 7\n",
        "outlier = [] \n",
        "for i in df['fiyat']: \n",
        "    z = (i-mean)/std \n",
        "    if z > threshold: \n",
        "        outlier.append(i) \n",
        "print('outlier in fiyat : ', outlier) "
      ]
    },
    {
      "cell_type": "code",
      "execution_count": 21,
      "metadata": {
        "id": "B_9AmDYKDPqE"
      },
      "outputs": [],
      "source": [
        "# We take houses smaller than 50 m^2 as wrong entries and replace those values\n",
        "# using a decision tree regressor built with houses larger than 70 m^2 \n",
        "df_mod = df[df['net_m2'] > 70]\n",
        "\n",
        "df_mod.dropna(inplace=True)\n",
        "\n",
        "model = DecisionTreeRegressor(max_depth=3)\n",
        "\n",
        "y = df_mod['net_m2']\n",
        "X = df_mod[['fiyat','oda_salon_sayisi','banyo_sayisi']]\n",
        "\n",
        "model.fit(X, y)\n",
        "\n",
        "for i,row in df[df.net_m2 <50].iterrows():\n",
        "  a = np.array([row['fiyat'],row['oda_salon_sayisi'],row['banyo_sayisi']]).reshape(1, -1)\n",
        "  df.loc[i, \"net_m2\"] = model.predict(a)"
      ]
    },
    {
      "cell_type": "code",
      "execution_count": 22,
      "metadata": {
        "colab": {
          "base_uri": "https://localhost:8080/",
          "height": 389
        },
        "id": "TQ5QHPIjHhFb",
        "outputId": "3186f855-29ec-4bd3-c08c-639a65de5a47"
      },
      "outputs": [
        {
          "data": {
            "image/png": "[encoded data removed]",
            "text/plain": [
              "<Figure size 432x432 with 1 Axes>"
            ]
          },
          "metadata": {
            "needs_background": "light"
          },
          "output_type": "display_data"
        }
      ],
      "source": [
        "columns_num = ['net_m2']\n",
        "plt.figure(figsize=(6,6))\n",
        "for i,col in enumerate(columns_num,1):\n",
        "  plt.subplot(len(columns_num),1,i)\n",
        "  sns.boxplot(x=df[col])\n",
        "  plt.ylabel(col)\n",
        "plt.show()"
      ]
    },
    {
      "cell_type": "code",
      "execution_count": 23,
      "metadata": {
        "id": "yaII5JNDH1nq"
      },
      "outputs": [],
      "source": [
        "# Drop rows with missing price and rows with missing room number and m2\n",
        "# as we cannot reliably fill those, and there are only ~20 such rows\n",
        "df.dropna(inplace=True)\n",
        "\n",
        "# Sanity check for nan values\n",
        "assert df.isna().sum().sum() == 0, \"There are still NaN values in dataset\""
      ]
    },
    {
      "cell_type": "code",
      "execution_count": 24,
      "metadata": {
        "colab": {
          "base_uri": "https://localhost:8080/",
          "height": 427
        },
        "id": "OzI4p3h781FG",
        "outputId": "5454f5b4-7c3c-4124-8fc5-b810d56bfd55"
      },
      "outputs": [
        {
          "data": {
            "text/html": [
              "\n",
              "  <div id=\"df-ae485305-062e-4a0c-b0a0-18b71808ef7b\">\n",
              "    <div class=\"colab-df-container\">\n",
              "      <div>\n",
              "<style scoped>\n",
              "    .dataframe tbody tr th:only-of-type {\n",
              "        vertical-align: middle;\n",
              "    }\n",
              "\n",
              "    .dataframe tbody tr th {\n",
              "        vertical-align: top;\n",
              "    }\n",
              "\n",
              "    .dataframe thead th {\n",
              "        text-align: right;\n",
              "    }\n",
              "</style>\n",
              "<table border=\"1\" class=\"dataframe\">\n",
              "  <thead>\n",
              "    <tr style=\"text-align: right;\">\n",
              "      <th></th>\n",
              "      <th>fiyat</th>\n",
              "      <th>oda_salon_sayisi</th>\n",
              "      <th>net_m2</th>\n",
              "      <th>bina_yasi</th>\n",
              "      <th>isinma_tipi</th>\n",
              "      <th>krediye_uygunluk</th>\n",
              "      <th>bulundugu_kat</th>\n",
              "      <th>banyo_sayisi</th>\n",
              "      <th>ilce</th>\n",
              "      <th>egitim</th>\n",
              "    </tr>\n",
              "  </thead>\n",
              "  <tbody>\n",
              "    <tr>\n",
              "      <th>681</th>\n",
              "      <td>695000.0</td>\n",
              "      <td>5.0</td>\n",
              "      <td>160.0</td>\n",
              "      <td>2.0</td>\n",
              "      <td>0</td>\n",
              "      <td>1</td>\n",
              "      <td>2</td>\n",
              "      <td>2.0</td>\n",
              "      <td>1</td>\n",
              "      <td>0</td>\n",
              "    </tr>\n",
              "    <tr>\n",
              "      <th>829</th>\n",
              "      <td>598000.0</td>\n",
              "      <td>5.0</td>\n",
              "      <td>152.0</td>\n",
              "      <td>2.0</td>\n",
              "      <td>0</td>\n",
              "      <td>1</td>\n",
              "      <td>0</td>\n",
              "      <td>2.0</td>\n",
              "      <td>1</td>\n",
              "      <td>1</td>\n",
              "    </tr>\n",
              "    <tr>\n",
              "      <th>1863</th>\n",
              "      <td>449000.0</td>\n",
              "      <td>4.0</td>\n",
              "      <td>125.0</td>\n",
              "      <td>3.0</td>\n",
              "      <td>0</td>\n",
              "      <td>1</td>\n",
              "      <td>1</td>\n",
              "      <td>1.0</td>\n",
              "      <td>0</td>\n",
              "      <td>0</td>\n",
              "    </tr>\n",
              "    <tr>\n",
              "      <th>2691</th>\n",
              "      <td>950000.0</td>\n",
              "      <td>3.0</td>\n",
              "      <td>98.0</td>\n",
              "      <td>3.0</td>\n",
              "      <td>1</td>\n",
              "      <td>1</td>\n",
              "      <td>2</td>\n",
              "      <td>1.0</td>\n",
              "      <td>1</td>\n",
              "      <td>0</td>\n",
              "    </tr>\n",
              "    <tr>\n",
              "      <th>888</th>\n",
              "      <td>395000.0</td>\n",
              "      <td>4.0</td>\n",
              "      <td>110.0</td>\n",
              "      <td>1.0</td>\n",
              "      <td>0</td>\n",
              "      <td>1</td>\n",
              "      <td>0</td>\n",
              "      <td>1.0</td>\n",
              "      <td>1</td>\n",
              "      <td>1</td>\n",
              "    </tr>\n",
              "    <tr>\n",
              "      <th>2527</th>\n",
              "      <td>300000.0</td>\n",
              "      <td>4.0</td>\n",
              "      <td>90.0</td>\n",
              "      <td>1.0</td>\n",
              "      <td>0</td>\n",
              "      <td>1</td>\n",
              "      <td>0</td>\n",
              "      <td>1.0</td>\n",
              "      <td>1</td>\n",
              "      <td>1</td>\n",
              "    </tr>\n",
              "    <tr>\n",
              "      <th>2010</th>\n",
              "      <td>2100000.0</td>\n",
              "      <td>6.0</td>\n",
              "      <td>285.0</td>\n",
              "      <td>1.0</td>\n",
              "      <td>2</td>\n",
              "      <td>1</td>\n",
              "      <td>4</td>\n",
              "      <td>3.0</td>\n",
              "      <td>1</td>\n",
              "      <td>1</td>\n",
              "    </tr>\n",
              "    <tr>\n",
              "      <th>699</th>\n",
              "      <td>670000.0</td>\n",
              "      <td>5.0</td>\n",
              "      <td>185.0</td>\n",
              "      <td>3.0</td>\n",
              "      <td>2</td>\n",
              "      <td>1</td>\n",
              "      <td>3</td>\n",
              "      <td>2.0</td>\n",
              "      <td>1</td>\n",
              "      <td>0</td>\n",
              "    </tr>\n",
              "    <tr>\n",
              "      <th>2140</th>\n",
              "      <td>785000.0</td>\n",
              "      <td>5.0</td>\n",
              "      <td>148.0</td>\n",
              "      <td>2.0</td>\n",
              "      <td>0</td>\n",
              "      <td>1</td>\n",
              "      <td>2</td>\n",
              "      <td>2.0</td>\n",
              "      <td>1</td>\n",
              "      <td>1</td>\n",
              "    </tr>\n",
              "    <tr>\n",
              "      <th>3882</th>\n",
              "      <td>535000.0</td>\n",
              "      <td>6.0</td>\n",
              "      <td>280.0</td>\n",
              "      <td>2.0</td>\n",
              "      <td>0</td>\n",
              "      <td>1</td>\n",
              "      <td>2</td>\n",
              "      <td>2.0</td>\n",
              "      <td>1</td>\n",
              "      <td>1</td>\n",
              "    </tr>\n",
              "  </tbody>\n",
              "</table>\n",
              "</div>\n",
              "      <button class=\"colab-df-convert\" onclick=\"convertToInteractive('df-ae485305-062e-4a0c-b0a0-18b71808ef7b')\"\n",
              "              title=\"Convert this dataframe to an interactive table.\"\n",
              "              style=\"display:none;\">\n",
              "        \n",
              "  <svg xmlns=\"http://www.w3.org/2000/svg\" height=\"24px\"viewBox=\"0 0 24 24\"\n",
              "       width=\"24px\">\n",
              "    <path d=\"M0 0h24v24H0V0z\" fill=\"none\"/>\n",
              "    <path d=\"M18.56 5.44l.94 2.06.94-2.06 2.06-.94-2.06-.94-.94-2.06-.94 2.06-2.06.94zm-11 1L8.5 8.5l.94-2.06 2.06-.94-2.06-.94L8.5 2.5l-.94 2.06-2.06.94zm10 10l.94 2.06.94-2.06 2.06-.94-2.06-.94-.94-2.06-.94 2.06-2.06.94z\"/><path d=\"M17.41 7.96l-1.37-1.37c-.4-.4-.92-.59-1.43-.59-.52 0-1.04.2-1.43.59L10.3 9.45l-7.72 7.72c-.78.78-.78 2.05 0 2.83L4 21.41c.39.39.9.59 1.41.59.51 0 1.02-.2 1.41-.59l7.78-7.78 2.81-2.81c.8-.78.8-2.07 0-2.86zM5.41 20L4 18.59l7.72-7.72 1.47 1.35L5.41 20z\"/>\n",
              "  </svg>\n",
              "      </button>\n",
              "      \n",
              "  <style>\n",
              "    .colab-df-container {\n",
              "      display:flex;\n",
              "      flex-wrap:wrap;\n",
              "      gap: 12px;\n",
              "    }\n",
              "\n",
              "    .colab-df-convert {\n",
              "      background-color: #E8F0FE;\n",
              "      border: none;\n",
              "      border-radius: 50%;\n",
              "      cursor: pointer;\n",
              "      display: none;\n",
              "      fill: #1967D2;\n",
              "      height: 32px;\n",
              "      padding: 0 0 0 0;\n",
              "      width: 32px;\n",
              "    }\n",
              "\n",
              "    .colab-df-convert:hover {\n",
              "      background-color: #E2EBFA;\n",
              "      box-shadow: 0px 1px 2px rgba(60, 64, 67, 0.3), 0px 1px 3px 1px rgba(60, 64, 67, 0.15);\n",
              "      fill: #174EA6;\n",
              "    }\n",
              "\n",
              "    [theme=dark] .colab-df-convert {\n",
              "      background-color: #3B4455;\n",
              "      fill: #D2E3FC;\n",
              "    }\n",
              "\n",
              "    [theme=dark] .colab-df-convert:hover {\n",
              "      background-color: #434B5C;\n",
              "      box-shadow: 0px 1px 3px 1px rgba(0, 0, 0, 0.15);\n",
              "      filter: drop-shadow(0px 1px 2px rgba(0, 0, 0, 0.3));\n",
              "      fill: #FFFFFF;\n",
              "    }\n",
              "  </style>\n",
              "\n",
              "      <script>\n",
              "        const buttonEl =\n",
              "          document.querySelector('#df-ae485305-062e-4a0c-b0a0-18b71808ef7b button.colab-df-convert');\n",
              "        buttonEl.style.display =\n",
              "          google.colab.kernel.accessAllowed ? 'block' : 'none';\n",
              "\n",
              "        async function convertToInteractive(key) {\n",
              "          const element = document.querySelector('#df-ae485305-062e-4a0c-b0a0-18b71808ef7b');\n",
              "          const dataTable =\n",
              "            await google.colab.kernel.invokeFunction('convertToInteractive',\n",
              "                                                     [key], {});\n",
              "          if (!dataTable) return;\n",
              "\n",
              "          const docLinkHtml = 'Like what you see? Visit the ' +\n",
              "            '<a target=\"_blank\" href=https://colab.research.google.com/notebooks/data_table.ipynb>data table notebook</a>'\n",
              "            + ' to learn more about interactive tables.';\n",
              "          element.innerHTML = '';\n",
              "          dataTable['output_type'] = 'display_data';\n",
              "          await google.colab.output.renderOutput(dataTable, element);\n",
              "          const docLink = document.createElement('div');\n",
              "          docLink.innerHTML = docLinkHtml;\n",
              "          element.appendChild(docLink);\n",
              "        }\n",
              "      </script>\n",
              "    </div>\n",
              "  </div>\n",
              "  "
            ],
            "text/plain": [
              "          fiyat  oda_salon_sayisi  net_m2  bina_yasi  isinma_tipi  \\\n",
              "681    695000.0               5.0   160.0        2.0            0   \n",
              "829    598000.0               5.0   152.0        2.0            0   \n",
              "1863   449000.0               4.0   125.0        3.0            0   \n",
              "2691   950000.0               3.0    98.0        3.0            1   \n",
              "888    395000.0               4.0   110.0        1.0            0   \n",
              "2527   300000.0               4.0    90.0        1.0            0   \n",
              "2010  2100000.0               6.0   285.0        1.0            2   \n",
              "699    670000.0               5.0   185.0        3.0            2   \n",
              "2140   785000.0               5.0   148.0        2.0            0   \n",
              "3882   535000.0               6.0   280.0        2.0            0   \n",
              "\n",
              "      krediye_uygunluk  bulundugu_kat  banyo_sayisi ilce egitim  \n",
              "681                  1              2           2.0    1      0  \n",
              "829                  1              0           2.0    1      1  \n",
              "1863                 1              1           1.0    0      0  \n",
              "2691                 1              2           1.0    1      0  \n",
              "888                  1              0           1.0    1      1  \n",
              "2527                 1              0           1.0    1      1  \n",
              "2010                 1              4           3.0    1      1  \n",
              "699                  1              3           2.0    1      0  \n",
              "2140                 1              2           2.0    1      1  \n",
              "3882                 1              2           2.0    1      1  "
            ]
          },
          "execution_count": 24,
          "metadata": {},
          "output_type": "execute_result"
        }
      ],
      "source": [
        "# Taking a final look at a random sample of the data as we finish preprocessing\n",
        "df.sample(10)"
      ]
    },
    {
      "cell_type": "code",
      "execution_count": 25,
      "metadata": {
        "id": "9p8Uf6hF9xhh"
      },
      "outputs": [],
      "source": [
        "# Downcasting our data types\n",
        "# Not really necessary for this small data but still a good practice\n",
        "df[\"fiyat\"] = df.fiyat.astype(\"uint32\")\n",
        "df[\"oda_salon_sayisi\"] = df.oda_salon_sayisi.astype(\"uint8\")\n",
        "df[\"net_m2\"] = df.net_m2.astype(\"uint16\")\n",
        "df[\"bina_yasi\"] = df.bina_yasi.astype(\"uint8\")\n",
        "df[\"isinma_tipi\"] = df.isinma_tipi.astype(\"int8\")\n",
        "df[\"krediye_uygunluk\"] = df.krediye_uygunluk.astype(\"int8\")\n",
        "df[\"bulundugu_kat\"] = df.bulundugu_kat.astype(\"int8\")\n",
        "df[\"banyo_sayisi\"] = df.banyo_sayisi.astype(\"uint8\")\n",
        "df[\"ilce\"] = df.ilce.astype(\"int8\")\n",
        "df[\"egitim\"] = df.egitim.astype(\"int8\")"
      ]
    },
    {
      "cell_type": "code",
      "execution_count": 26,
      "metadata": {
        "colab": {
          "base_uri": "https://localhost:8080/"
        },
        "id": "mfqRbBM89k4F",
        "outputId": "f68647f0-0cb8-4320-f333-b86d503699a5"
      },
      "outputs": [
        {
          "name": "stdout",
          "output_type": "stream",
          "text": [
            "<class 'pandas.core.frame.DataFrame'>\n",
            "Int64Index: 3586 entries, 0 to 4220\n",
            "Data columns (total 10 columns):\n",
            " #   Column            Non-Null Count  Dtype \n",
            "---  ------            --------------  ----- \n",
            " 0   fiyat             3586 non-null   uint32\n",
            " 1   oda_salon_sayisi  3586 non-null   uint8 \n",
            " 2   net_m2            3586 non-null   uint16\n",
            " 3   bina_yasi         3586 non-null   uint8 \n",
            " 4   isinma_tipi       3586 non-null   int8  \n",
            " 5   krediye_uygunluk  3586 non-null   int8  \n",
            " 6   bulundugu_kat     3586 non-null   int8  \n",
            " 7   banyo_sayisi      3586 non-null   uint8 \n",
            " 8   ilce              3586 non-null   int8  \n",
            " 9   egitim            3586 non-null   int8  \n",
            "dtypes: int8(5), uint16(1), uint32(1), uint8(3)\n",
            "memory usage: 77.0 KB\n"
          ]
        }
      ],
      "source": [
        "df.info()"
      ]
    },
    {
      "cell_type": "code",
      "execution_count": 27,
      "metadata": {
        "colab": {
          "base_uri": "https://localhost:8080/",
          "height": 364
        },
        "id": "fPycQqgW9m-W",
        "outputId": "a81f7ef9-2425-44eb-895e-b61a1d1d6aac"
      },
      "outputs": [
        {
          "data": {
            "text/html": [
              "\n",
              "  <div id=\"df-f10ff5f5-38b6-4e74-85a6-3e833aea8dff\">\n",
              "    <div class=\"colab-df-container\">\n",
              "      <div>\n",
              "<style scoped>\n",
              "    .dataframe tbody tr th:only-of-type {\n",
              "        vertical-align: middle;\n",
              "    }\n",
              "\n",
              "    .dataframe tbody tr th {\n",
              "        vertical-align: top;\n",
              "    }\n",
              "\n",
              "    .dataframe thead th {\n",
              "        text-align: right;\n",
              "    }\n",
              "</style>\n",
              "<table border=\"1\" class=\"dataframe\">\n",
              "  <thead>\n",
              "    <tr style=\"text-align: right;\">\n",
              "      <th></th>\n",
              "      <th>fiyat</th>\n",
              "      <th>oda_salon_sayisi</th>\n",
              "      <th>net_m2</th>\n",
              "      <th>bina_yasi</th>\n",
              "      <th>isinma_tipi</th>\n",
              "      <th>krediye_uygunluk</th>\n",
              "      <th>bulundugu_kat</th>\n",
              "      <th>banyo_sayisi</th>\n",
              "      <th>ilce</th>\n",
              "      <th>egitim</th>\n",
              "    </tr>\n",
              "  </thead>\n",
              "  <tbody>\n",
              "    <tr>\n",
              "      <th>count</th>\n",
              "      <td>3.586000e+03</td>\n",
              "      <td>3586.000000</td>\n",
              "      <td>3586.000000</td>\n",
              "      <td>3586.000000</td>\n",
              "      <td>3586.000000</td>\n",
              "      <td>3586.000000</td>\n",
              "      <td>3586.000000</td>\n",
              "      <td>3586.000000</td>\n",
              "      <td>3586.000000</td>\n",
              "      <td>3586.000000</td>\n",
              "    </tr>\n",
              "    <tr>\n",
              "      <th>mean</th>\n",
              "      <td>6.163073e+05</td>\n",
              "      <td>4.367819</td>\n",
              "      <td>132.017847</td>\n",
              "      <td>1.693809</td>\n",
              "      <td>0.395427</td>\n",
              "      <td>0.980201</td>\n",
              "      <td>1.520357</td>\n",
              "      <td>1.481037</td>\n",
              "      <td>0.839375</td>\n",
              "      <td>0.416062</td>\n",
              "    </tr>\n",
              "    <tr>\n",
              "      <th>std</th>\n",
              "      <td>5.591357e+05</td>\n",
              "      <td>4.296599</td>\n",
              "      <td>51.000268</td>\n",
              "      <td>0.994518</td>\n",
              "      <td>0.676624</td>\n",
              "      <td>0.139329</td>\n",
              "      <td>0.987935</td>\n",
              "      <td>0.977175</td>\n",
              "      <td>0.367236</td>\n",
              "      <td>0.492973</td>\n",
              "    </tr>\n",
              "    <tr>\n",
              "      <th>min</th>\n",
              "      <td>3.250000e+02</td>\n",
              "      <td>1.000000</td>\n",
              "      <td>50.000000</td>\n",
              "      <td>0.000000</td>\n",
              "      <td>0.000000</td>\n",
              "      <td>0.000000</td>\n",
              "      <td>0.000000</td>\n",
              "      <td>1.000000</td>\n",
              "      <td>0.000000</td>\n",
              "      <td>0.000000</td>\n",
              "    </tr>\n",
              "    <tr>\n",
              "      <th>25%</th>\n",
              "      <td>3.250000e+05</td>\n",
              "      <td>4.000000</td>\n",
              "      <td>103.000000</td>\n",
              "      <td>1.000000</td>\n",
              "      <td>0.000000</td>\n",
              "      <td>1.000000</td>\n",
              "      <td>1.000000</td>\n",
              "      <td>1.000000</td>\n",
              "      <td>1.000000</td>\n",
              "      <td>0.000000</td>\n",
              "    </tr>\n",
              "    <tr>\n",
              "      <th>50%</th>\n",
              "      <td>4.600000e+05</td>\n",
              "      <td>4.000000</td>\n",
              "      <td>120.000000</td>\n",
              "      <td>2.000000</td>\n",
              "      <td>0.000000</td>\n",
              "      <td>1.000000</td>\n",
              "      <td>2.000000</td>\n",
              "      <td>1.000000</td>\n",
              "      <td>1.000000</td>\n",
              "      <td>0.000000</td>\n",
              "    </tr>\n",
              "    <tr>\n",
              "      <th>75%</th>\n",
              "      <td>7.000000e+05</td>\n",
              "      <td>4.000000</td>\n",
              "      <td>145.000000</td>\n",
              "      <td>3.000000</td>\n",
              "      <td>1.000000</td>\n",
              "      <td>1.000000</td>\n",
              "      <td>2.000000</td>\n",
              "      <td>2.000000</td>\n",
              "      <td>1.000000</td>\n",
              "      <td>1.000000</td>\n",
              "    </tr>\n",
              "    <tr>\n",
              "      <th>max</th>\n",
              "      <td>8.850000e+06</td>\n",
              "      <td>153.000000</td>\n",
              "      <td>600.000000</td>\n",
              "      <td>3.000000</td>\n",
              "      <td>2.000000</td>\n",
              "      <td>1.000000</td>\n",
              "      <td>5.000000</td>\n",
              "      <td>21.000000</td>\n",
              "      <td>1.000000</td>\n",
              "      <td>1.000000</td>\n",
              "    </tr>\n",
              "  </tbody>\n",
              "</table>\n",
              "</div>\n",
              "      <button class=\"colab-df-convert\" onclick=\"convertToInteractive('df-f10ff5f5-38b6-4e74-85a6-3e833aea8dff')\"\n",
              "              title=\"Convert this dataframe to an interactive table.\"\n",
              "              style=\"display:none;\">\n",
              "        \n",
              "  <svg xmlns=\"http://www.w3.org/2000/svg\" height=\"24px\"viewBox=\"0 0 24 24\"\n",
              "       width=\"24px\">\n",
              "    <path d=\"M0 0h24v24H0V0z\" fill=\"none\"/>\n",
              "    <path d=\"M18.56 5.44l.94 2.06.94-2.06 2.06-.94-2.06-.94-.94-2.06-.94 2.06-2.06.94zm-11 1L8.5 8.5l.94-2.06 2.06-.94-2.06-.94L8.5 2.5l-.94 2.06-2.06.94zm10 10l.94 2.06.94-2.06 2.06-.94-2.06-.94-.94-2.06-.94 2.06-2.06.94z\"/><path d=\"M17.41 7.96l-1.37-1.37c-.4-.4-.92-.59-1.43-.59-.52 0-1.04.2-1.43.59L10.3 9.45l-7.72 7.72c-.78.78-.78 2.05 0 2.83L4 21.41c.39.39.9.59 1.41.59.51 0 1.02-.2 1.41-.59l7.78-7.78 2.81-2.81c.8-.78.8-2.07 0-2.86zM5.41 20L4 18.59l7.72-7.72 1.47 1.35L5.41 20z\"/>\n",
              "  </svg>\n",
              "      </button>\n",
              "      \n",
              "  <style>\n",
              "    .colab-df-container {\n",
              "      display:flex;\n",
              "      flex-wrap:wrap;\n",
              "      gap: 12px;\n",
              "    }\n",
              "\n",
              "    .colab-df-convert {\n",
              "      background-color: #E8F0FE;\n",
              "      border: none;\n",
              "      border-radius: 50%;\n",
              "      cursor: pointer;\n",
              "      display: none;\n",
              "      fill: #1967D2;\n",
              "      height: 32px;\n",
              "      padding: 0 0 0 0;\n",
              "      width: 32px;\n",
              "    }\n",
              "\n",
              "    .colab-df-convert:hover {\n",
              "      background-color: #E2EBFA;\n",
              "      box-shadow: 0px 1px 2px rgba(60, 64, 67, 0.3), 0px 1px 3px 1px rgba(60, 64, 67, 0.15);\n",
              "      fill: #174EA6;\n",
              "    }\n",
              "\n",
              "    [theme=dark] .colab-df-convert {\n",
              "      background-color: #3B4455;\n",
              "      fill: #D2E3FC;\n",
              "    }\n",
              "\n",
              "    [theme=dark] .colab-df-convert:hover {\n",
              "      background-color: #434B5C;\n",
              "      box-shadow: 0px 1px 3px 1px rgba(0, 0, 0, 0.15);\n",
              "      filter: drop-shadow(0px 1px 2px rgba(0, 0, 0, 0.3));\n",
              "      fill: #FFFFFF;\n",
              "    }\n",
              "  </style>\n",
              "\n",
              "      <script>\n",
              "        const buttonEl =\n",
              "          document.querySelector('#df-f10ff5f5-38b6-4e74-85a6-3e833aea8dff button.colab-df-convert');\n",
              "        buttonEl.style.display =\n",
              "          google.colab.kernel.accessAllowed ? 'block' : 'none';\n",
              "\n",
              "        async function convertToInteractive(key) {\n",
              "          const element = document.querySelector('#df-f10ff5f5-38b6-4e74-85a6-3e833aea8dff');\n",
              "          const dataTable =\n",
              "            await google.colab.kernel.invokeFunction('convertToInteractive',\n",
              "                                                     [key], {});\n",
              "          if (!dataTable) return;\n",
              "\n",
              "          const docLinkHtml = 'Like what you see? Visit the ' +\n",
              "            '<a target=\"_blank\" href=https://colab.research.google.com/notebooks/data_table.ipynb>data table notebook</a>'\n",
              "            + ' to learn more about interactive tables.';\n",
              "          element.innerHTML = '';\n",
              "          dataTable['output_type'] = 'display_data';\n",
              "          await google.colab.output.renderOutput(dataTable, element);\n",
              "          const docLink = document.createElement('div');\n",
              "          docLink.innerHTML = docLinkHtml;\n",
              "          element.appendChild(docLink);\n",
              "        }\n",
              "      </script>\n",
              "    </div>\n",
              "  </div>\n",
              "  "
            ],
            "text/plain": [
              "              fiyat  oda_salon_sayisi       net_m2    bina_yasi  isinma_tipi  \\\n",
              "count  3.586000e+03       3586.000000  3586.000000  3586.000000  3586.000000   \n",
              "mean   6.163073e+05          4.367819   132.017847     1.693809     0.395427   \n",
              "std    5.591357e+05          4.296599    51.000268     0.994518     0.676624   \n",
              "min    3.250000e+02          1.000000    50.000000     0.000000     0.000000   \n",
              "25%    3.250000e+05          4.000000   103.000000     1.000000     0.000000   \n",
              "50%    4.600000e+05          4.000000   120.000000     2.000000     0.000000   \n",
              "75%    7.000000e+05          4.000000   145.000000     3.000000     1.000000   \n",
              "max    8.850000e+06        153.000000   600.000000     3.000000     2.000000   \n",
              "\n",
              "       krediye_uygunluk  bulundugu_kat  banyo_sayisi         ilce       egitim  \n",
              "count       3586.000000    3586.000000   3586.000000  3586.000000  3586.000000  \n",
              "mean           0.980201       1.520357      1.481037     0.839375     0.416062  \n",
              "std            0.139329       0.987935      0.977175     0.367236     0.492973  \n",
              "min            0.000000       0.000000      1.000000     0.000000     0.000000  \n",
              "25%            1.000000       1.000000      1.000000     1.000000     0.000000  \n",
              "50%            1.000000       2.000000      1.000000     1.000000     0.000000  \n",
              "75%            1.000000       2.000000      2.000000     1.000000     1.000000  \n",
              "max            1.000000       5.000000     21.000000     1.000000     1.000000  "
            ]
          },
          "execution_count": 27,
          "metadata": {},
          "output_type": "execute_result"
        }
      ],
      "source": [
        "df.describe()"
      ]
    },
    {
      "cell_type": "code",
      "execution_count": 28,
      "metadata": {
        "colab": {
          "base_uri": "https://localhost:8080/",
          "height": 348
        },
        "id": "oztL_hn3LwwS",
        "outputId": "5176757d-1867-40d4-8a01-6ffd80e35596"
      },
      "outputs": [
        {
          "data": {
            "image/png": "[encoded data removed]",
            "text/plain": [
              "<Figure size 432x288 with 2 Axes>"
            ]
          },
          "metadata": {
            "needs_background": "light"
          },
          "output_type": "display_data"
        }
      ],
      "source": [
        "dataplot = sns.heatmap(df.corr(), cmap=\"YlGnBu\", annot=True)"
      ]
    },
    {
      "cell_type": "markdown",
      "metadata": {
        "id": "fHO9GLHJNBV7"
      },
      "source": [
        "## Data Exploration & Insights "
      ]
    },
    {
      "cell_type": "markdown",
      "metadata": {
        "id": "pyyqx6Hj4xyR"
      },
      "source": [
        "### Viewing the relationship of Price & m^2 and examining the results of preprocessing on this"
      ]
    },
    {
      "cell_type": "code",
      "execution_count": 29,
      "metadata": {
        "colab": {
          "base_uri": "https://localhost:8080/",
          "height": 565
        },
        "id": "AHuKbkiDNmYQ",
        "outputId": "406ddbe5-216e-43d1-c7e0-653d3bc9a314"
      },
      "outputs": [
        {
          "data": {
            "image/png": "[encoded data removed]",
            "text/plain": [
              "<Figure size 432x288 with 1 Axes>"
            ]
          },
          "metadata": {
            "needs_background": "light"
          },
          "output_type": "display_data"
        },
        {
          "data": {
            "image/png": "[encoded data removed]",
            "text/plain": [
              "<Figure size 432x288 with 1 Axes>"
            ]
          },
          "metadata": {
            "needs_background": "light"
          },
          "output_type": "display_data"
        }
      ],
      "source": [
        "# Here we view price-m2 relationship before and after preprocessing\n",
        "sns.scatterplot(data=df_copy, x=\"net_m2\", y=\"fiyat\")\n",
        "plt.show()\n",
        "sns.scatterplot(data=df, x=\"net_m2\", y=\"fiyat\")\n",
        "plt.show()"
      ]
    },
    {
      "cell_type": "markdown",
      "metadata": {
        "id": "SB4hHMJOMaij"
      },
      "source": [
        "We can see wrong entries moving closer to other data points on the lower left corner. This is especially easy to see with the building that is ~0 m2 and 7.8 mil price in the first graph. In the second graph it moved to ~350 m2, which is a reasonable assumption. \n",
        "\n",
        "One interesting observation is the relatively cheap building on the rightmost edge.\n",
        "\n",
        "When we take a closer look we saw that the building has 18 rooms and it is relatively new.\n",
        "\n",
        "It is likely for that building to be a dormitory or used for a similar purpose so we chose to leave it as is.\n"
      ]
    },
    {
      "cell_type": "markdown",
      "metadata": {
        "id": "NstGZmTV4hbJ"
      },
      "source": [
        "### Looking for apartment buildings in each district"
      ]
    },
    {
      "cell_type": "code",
      "execution_count": 30,
      "metadata": {
        "colab": {
          "base_uri": "https://localhost:8080/",
          "height": 0
        },
        "id": "ryOudeMUZer2",
        "outputId": "b7c05afd-9efe-481b-82a0-ac3186b3f83f"
      },
      "outputs": [
        {
          "data": {
            "image/png": "[encoded data removed]",
            "text/plain": [
              "<Figure size 432x288 with 1 Axes>"
            ]
          },
          "metadata": {},
          "output_type": "display_data"
        }
      ],
      "source": [
        "# Here we are trying to look for buildings that are higher than floor 2 and\n",
        "# heated with 'merkezi'. These are likely to be apartment buildings.\n",
        "df3 = df_copy.copy()\n",
        "\n",
        "yuksek_katlar = [\"2. Kat\" , \"3. Kat\" , \"4. Kat\" , \"5. Kat\" , \"Teras Katý\", \"En Üst Kat\",\n",
        "\"6. Kat\" , \"7. Kat\" , \"8. Kat\" , \"9. Kat\" , \"10. Kat\" , \"Ara Kat\" , \"11. Kat\" ,\n",
        "\"12. Kat\" , \"13. Kat\" , \"14. Kat\" , \"15. Kat\" , \"16. Kat\" , \"17. Kat\" , \n",
        "\"18. Kat\" , \"19. Kat\" , \"20. Kat\" , \"21 ve üzeri\", \"Çatý Katý\"]\n",
        "\n",
        "for kat in yuksek_katlar:\n",
        "  df3.loc[df3[\"bulundugu_kat\"] == kat , \"bulundugu_kat\"] = \"Yuksek\"\n",
        "\n",
        "def absolute_value(val):\n",
        "    a  = np.round(val/100.*y.sum(), 0)\n",
        "    return a\n",
        "  \n",
        "dic = {}\n",
        "for ilce in df3.ilce.unique():\n",
        "  df_temp = df3[(df3.isinma_tipi == \"Merkezi\") & (df3.bulundugu_kat == \"Yuksek\") \n",
        "  & (df3.ilce == ilce)]\n",
        "  dic[ilce] = df_temp.shape[0]\n",
        "\n",
        "y = np.array(list(dic.values()))\n",
        "mylabels = list(dic.keys())\n",
        "myexplode = [0.1, 0.1, 0.1, 0.4]\n",
        "\n",
        "plt.pie(y, labels=mylabels, explode=myexplode, shadow=True, autopct=absolute_value)\n",
        "plt.show() "
      ]
    },
    {
      "cell_type": "markdown",
      "metadata": {
        "id": "To2opB5aMkcd"
      },
      "source": [
        "We can see that Çankaya & Keçiören have a similar number of apartment buildings, and Mamak & Sincan have relatively few.\n",
        "\n",
        "This further reinforces our decision to group these 2 districts together in preprocessing step."
      ]
    },
    {
      "cell_type": "markdown",
      "metadata": {
        "id": "VjjDsa6s4N97"
      },
      "source": [
        "### Finding the district with the highest number of student accomodations"
      ]
    },
    {
      "cell_type": "code",
      "execution_count": 31,
      "metadata": {
        "colab": {
          "base_uri": "https://localhost:8080/",
          "height": 0
        },
        "id": "F8Avh11NNlEI",
        "outputId": "62c21ecf-2d5b-479a-b066-dad541e19062"
      },
      "outputs": [
        {
          "data": {
            "image/png": "[encoded data removed]",
            "text/plain": [
              "<Figure size 432x288 with 1 Axes>"
            ]
          },
          "metadata": {
            "needs_background": "light"
          },
          "output_type": "display_data"
        }
      ],
      "source": [
        "# In this part lets view houses cheaper than 5k according to district and education\n",
        "df_temp = df_copy[df_copy.fiyat <= 5000]\n",
        "\n",
        "ax = sns.swarmplot(data=df_temp, x=\"fiyat\", y=\"egitim\", hue=\"ilce\")\n",
        "ax.set_title(\"Fiyatı 5000'den ucuz olan evlerin ilçelere göre dağılımı\")\n",
        "plt.show()"
      ]
    },
    {
      "cell_type": "markdown",
      "metadata": {
        "id": "iuWJ5KqkNzsS"
      },
      "source": [
        "Prices cheaper than 5000 are likely rentals and we can see Keçiören and Çankaya have a considerable number of such buildings.\n",
        "\n",
        "Education level being 'bachelor' along with a large number of rentals might indicate that the area has a high number of students living there. \n",
        "\n",
        "If we think about what we can discern from other sources (such as google), this observation holds true."
      ]
    },
    {
      "cell_type": "markdown",
      "metadata": {
        "id": "BdzhexGI4Akc"
      },
      "source": [
        "### Searching for most affordable heating in each district"
      ]
    },
    {
      "cell_type": "code",
      "execution_count": 32,
      "metadata": {
        "colab": {
          "base_uri": "https://localhost:8080/",
          "height": 1000
        },
        "id": "--OVXgQNNhA5",
        "outputId": "e44a8e49-b80e-4d18-bc60-5a14a7b5a346"
      },
      "outputs": [
        {
          "data": {
            "image/png": "[encoded data removed]",
            "text/plain": [
              "<Figure size 432x288 with 1 Axes>"
            ]
          },
          "metadata": {
            "needs_background": "light"
          },
          "output_type": "display_data"
        },
        {
          "data": {
            "image/png": "[encoded data removed]",
            "text/plain": [
              "<Figure size 432x288 with 1 Axes>"
            ]
          },
          "metadata": {
            "needs_background": "light"
          },
          "output_type": "display_data"
        },
        {
          "data": {
            "image/png": "[encoded data removed]",
            "text/plain": [
              "<Figure size 432x288 with 1 Axes>"
            ]
          },
          "metadata": {
            "needs_background": "light"
          },
          "output_type": "display_data"
        },
        {
          "data": {
            "image/png": "[encoded data removed]",
            "text/plain": [
              "<Figure size 432x288 with 1 Axes>"
            ]
          },
          "metadata": {
            "needs_background": "light"
          },
          "output_type": "display_data"
        }
      ],
      "source": [
        "# In this part we are looking at the cheapest heating type according to district\n",
        "ilce_list = df_copy[\"ilce\"].unique()\n",
        "\n",
        "for ilce in ilce_list:\n",
        "  ax = sns.barplot(x=\"isinma_tipi\", y=\"fiyat\", data=df_copy[df_copy.ilce == ilce], hue=\"isinma_tipi\", dodge=False)\n",
        "  ax.set_title(f\"İlçe: {ilce}\")\n",
        "  plt.show()"
      ]
    },
    {
      "cell_type": "markdown",
      "metadata": {
        "id": "WNqcjg_vOESZ"
      },
      "source": [
        "Kombi looks like the most affordable option in all districts. This is followed by Merkezi in all districts but Keçiören. In Keçiören, thw 2nd most affordable option is Klima.\n",
        "\n",
        "In Çankaya and Keçiören, we see a wild variation in prices for Kat Kaloriferi. This is likely because the type of heating used in affordable and luxury houses, altough they look and function somewhat differently, are both labeled as 'Kat Kaloriferi'.\n",
        "\n",
        "These graphs are also somewhat skewed because they include the houses with prices lower than 5000, the houses we previously assumed were rentals. It would make sense to draw different graphs for these groups."
      ]
    },
    {
      "cell_type": "code",
      "execution_count": 33,
      "metadata": {
        "colab": {
          "base_uri": "https://localhost:8080/",
          "height": 841
        },
        "id": "GlbTs8OzQIKz",
        "outputId": "98658a7a-1afa-48c3-d540-673c2a320acd"
      },
      "outputs": [
        {
          "data": {
            "image/png": "[encoded data removed]",
            "text/plain": [
              "<Figure size 557.875x432 with 1 Axes>"
            ]
          },
          "metadata": {
            "needs_background": "light"
          },
          "output_type": "display_data"
        },
        {
          "data": {
            "image/png": "[encoded data removed]",
            "text/plain": [
              "<Figure size 557.875x432 with 1 Axes>"
            ]
          },
          "metadata": {
            "needs_background": "light"
          },
          "output_type": "display_data"
        }
      ],
      "source": [
        "df_rental = df_copy.loc[df_copy.fiyat < 5000].sort_values('fiyat')\n",
        "df_sale = df_copy.loc[df_copy.fiyat >= 5000].sort_values('fiyat')\n",
        "\n",
        "# Draw a nested barplot by species and sex\n",
        "\n",
        "g = sns.catplot(\n",
        "    data=df_rental, kind=\"bar\",\n",
        "    x=\"ilce\", y=\"fiyat\", hue=\"isinma_tipi\",\n",
        "    ci=\"sd\", palette=\"dark\", alpha=.6, height=6\n",
        ")\n",
        "g.despine(left=True)\n",
        "g.set_axis_labels(\"\", \"Price (TL)\")\n",
        "g.fig.suptitle('Prices by Heating Among Rentals')\n",
        "g.legend.set_title(\"\")\n",
        "plt.show()\n",
        "\n",
        "g = sns.catplot(\n",
        "    data=df_sale, kind=\"bar\",\n",
        "    x=\"ilce\", y=\"fiyat\", hue=\"isinma_tipi\",\n",
        "    ci=\"sd\", palette=\"dark\", alpha=.6, height=6\n",
        ")\n",
        "g.despine(left=True)\n",
        "g.set_axis_labels(\"\", \"Price (Mil TL)\")\n",
        "g.fig.suptitle('Prices by Heating Among Houses For Sale')\n",
        "g.legend.set_title(\"\")\n",
        "plt.show()"
      ]
    },
    {
      "cell_type": "markdown",
      "metadata": {
        "id": "MNLDJpG-3Vuc"
      },
      "source": [
        "This is a bit more clear. Kombi is still the cheapest option for all categories, Kombi and Merkezi prices are much closer for every district and average price of Klima houses is actually lower for Keçiören."
      ]
    },
    {
      "cell_type": "code",
      "execution_count": 33,
      "metadata": {
        "id": "XfG0NxJiz5k4"
      },
      "outputs": [],
      "source": []
    }
  ],
  "metadata": {
    "colab": {
      "name": "Preprocessing_and_Exploration",
      "provenance": []
    },
    "kernelspec": {
      "display_name": "Python 3",
      "name": "python3"
    },
    "language_info": {
      "codemirror_mode": {
        "name": "ipython",
        "version": 3
      },
      "file_extension": ".py",
      "mimetype": "text/x-python",
      "name": "python",
      "nbconvert_exporter": "python",
      "pygments_lexer": "ipython3",
      "version": "3.8.12"
    }
  },
  "nbformat": 4,
  "nbformat_minor": 0
}
